{
 "cells": [
  {
   "cell_type": "code",
   "execution_count": 1,
   "metadata": {},
   "outputs": [],
   "source": [
    "import pandas as pd\n",
    "\n",
    "import torch.nn.utils.prune as prune\n",
    "\n",
    "import torch\n",
    "\n",
    "import torch.nn as nn\n",
    "import torch.optim as optim\n",
    "import torch.nn.functional as F\n",
    "\n",
    "from torch.utils.data import DataLoader, random_split\n",
    "from torchvision import datasets, transforms\n",
    "from typing import Callable, Tuple\n",
    "from pathlib import Path\n",
    "\n",
    "from dataclasses import dataclass, asdict"
   ]
  },
  {
   "cell_type": "markdown",
   "metadata": {},
   "source": [
    "### Load the data"
   ]
  },
  {
   "cell_type": "code",
   "execution_count": 2,
   "metadata": {},
   "outputs": [
    {
     "name": "stdout",
     "output_type": "stream",
     "text": [
      "Downloading http://fashion-mnist.s3-website.eu-central-1.amazonaws.com/train-images-idx3-ubyte.gz\n",
      "Downloading http://fashion-mnist.s3-website.eu-central-1.amazonaws.com/train-images-idx3-ubyte.gz to data/FashionMNIST/raw/train-images-idx3-ubyte.gz\n"
     ]
    },
    {
     "name": "stderr",
     "output_type": "stream",
     "text": [
      "100%|██████████| 26421880/26421880 [00:01<00:00, 15132572.47it/s]\n"
     ]
    },
    {
     "name": "stdout",
     "output_type": "stream",
     "text": [
      "Extracting data/FashionMNIST/raw/train-images-idx3-ubyte.gz to data/FashionMNIST/raw\n",
      "\n",
      "Downloading http://fashion-mnist.s3-website.eu-central-1.amazonaws.com/train-labels-idx1-ubyte.gz\n",
      "Downloading http://fashion-mnist.s3-website.eu-central-1.amazonaws.com/train-labels-idx1-ubyte.gz to data/FashionMNIST/raw/train-labels-idx1-ubyte.gz\n"
     ]
    },
    {
     "name": "stderr",
     "output_type": "stream",
     "text": [
      "100%|██████████| 29515/29515 [00:00<00:00, 609830.01it/s]\n"
     ]
    },
    {
     "name": "stdout",
     "output_type": "stream",
     "text": [
      "Extracting data/FashionMNIST/raw/train-labels-idx1-ubyte.gz to data/FashionMNIST/raw\n",
      "\n",
      "Downloading http://fashion-mnist.s3-website.eu-central-1.amazonaws.com/t10k-images-idx3-ubyte.gz\n",
      "Downloading http://fashion-mnist.s3-website.eu-central-1.amazonaws.com/t10k-images-idx3-ubyte.gz to data/FashionMNIST/raw/t10k-images-idx3-ubyte.gz\n"
     ]
    },
    {
     "name": "stderr",
     "output_type": "stream",
     "text": [
      "100%|██████████| 4422102/4422102 [00:00<00:00, 7979796.33it/s]\n"
     ]
    },
    {
     "name": "stdout",
     "output_type": "stream",
     "text": [
      "Extracting data/FashionMNIST/raw/t10k-images-idx3-ubyte.gz to data/FashionMNIST/raw\n",
      "\n",
      "Downloading http://fashion-mnist.s3-website.eu-central-1.amazonaws.com/t10k-labels-idx1-ubyte.gz\n",
      "Downloading http://fashion-mnist.s3-website.eu-central-1.amazonaws.com/t10k-labels-idx1-ubyte.gz to data/FashionMNIST/raw/t10k-labels-idx1-ubyte.gz\n"
     ]
    },
    {
     "name": "stderr",
     "output_type": "stream",
     "text": [
      "100%|██████████| 5148/5148 [00:00<00:00, 10151517.16it/s]"
     ]
    },
    {
     "name": "stdout",
     "output_type": "stream",
     "text": [
      "Extracting data/FashionMNIST/raw/t10k-labels-idx1-ubyte.gz to data/FashionMNIST/raw\n",
      "\n"
     ]
    },
    {
     "name": "stderr",
     "output_type": "stream",
     "text": [
      "\n"
     ]
    }
   ],
   "source": [
    "# load FashionMNIST data\n",
    "transform = transforms.Compose([transforms.ToTensor()])\n",
    "\n",
    "# split into validation and train datasets\n",
    "train_ds = datasets.FashionMNIST(\"data\", train=True, transform=transform, download=True)\n",
    "train_ds, valid_ds = random_split(train_ds, [0.8, 0.2])\n",
    "\n",
    "test_ds = datasets.FashionMNIST(\"data\", train=False, transform=transform, download=True)"
   ]
  },
  {
   "cell_type": "markdown",
   "metadata": {},
   "source": [
    "## Define the model architecture"
   ]
  },
  {
   "cell_type": "code",
   "execution_count": 3,
   "metadata": {},
   "outputs": [],
   "source": [
    "# Define a simple CNN model\n",
    "class LeNet(nn.Module):\n",
    "    def __init__(self):\n",
    "        super().__init__()\n",
    "        self.conv1 = nn.Conv2d(\n",
    "            1, 6, kernel_size=5, stride=1, padding=2\n",
    "        )  # 28*28->32*32-->28*28\n",
    "        self.pool1 = nn.AvgPool2d(kernel_size=2, stride=2)\n",
    "        self.conv2 = nn.Conv2d(6, 16, kernel_size=5, stride=1)\n",
    "        self.pool2 = nn.AvgPool2d(kernel_size=2, stride=2)\n",
    "        self.flatten1 = nn.Flatten()\n",
    "        self.fc1 = nn.Linear(16 * 5 * 5, 120)  # 5x5 image dimension\n",
    "        self.fc2 = nn.Linear(120, 84)\n",
    "        self.fc3 = nn.Linear(84, 10)\n",
    "\n",
    "    def forward(self, x):\n",
    "        x = F.relu(self.conv1(x))\n",
    "        x = self.pool1(x)\n",
    "        x = F.relu(self.conv2(x))\n",
    "        x = self.pool2(x)\n",
    "        x = self.flatten1(x)\n",
    "        x = F.relu(self.fc1(x))\n",
    "        x = F.relu(self.fc2(x))\n",
    "        x = self.fc3(x)\n",
    "        return x"
   ]
  },
  {
   "cell_type": "markdown",
   "metadata": {},
   "source": [
    "### Define utilities for training and testing"
   ]
  },
  {
   "cell_type": "code",
   "execution_count": 4,
   "metadata": {},
   "outputs": [],
   "source": [
    "class EarlyStopper:\n",
    "    def __init__(self, patience: int = 1, min_delta: int = 0):\n",
    "        self.patience = patience\n",
    "        self.min_delta = min_delta\n",
    "        self.counter = 0\n",
    "        self.min_validation_loss = float(\"inf\")\n",
    "\n",
    "    def early_stop(self, validation_loss: float) -> bool:\n",
    "        if validation_loss < self.min_validation_loss:\n",
    "            self.min_validation_loss = validation_loss\n",
    "            self.counter = 0\n",
    "        elif validation_loss > (self.min_validation_loss + self.min_delta):\n",
    "            self.counter += 1\n",
    "            if self.counter >= self.patience:\n",
    "                return True\n",
    "        return False"
   ]
  },
  {
   "cell_type": "code",
   "execution_count": 5,
   "metadata": {},
   "outputs": [],
   "source": [
    "# Define a function to train the model\n",
    "def fit(\n",
    "    model: nn.Module,\n",
    "    train_dl,\n",
    "    valid_dl,\n",
    "    optimizer: optim.Optimizer,\n",
    "    loss_function: Callable,\n",
    "    epochs: int,\n",
    "    early_stopper: EarlyStopper | None = None,\n",
    "    device: torch.device = torch.device(\"cpu\"),\n",
    ") -> Tuple[float, float]:\n",
    "    valid_loss = 0\n",
    "    valid_accuracy = 0\n",
    "\n",
    "    for epoch in range(epochs):\n",
    "        model.train()\n",
    "        for X, y in train_dl:\n",
    "            X, y = X.to(device), y.to(device)\n",
    "\n",
    "            # Compute prediction error\n",
    "            pred = model(X)\n",
    "            train_loss = loss_function(pred, y)\n",
    "\n",
    "            # Backpropagation\n",
    "            train_loss.backward()\n",
    "            optimizer.step()\n",
    "            optimizer.zero_grad()\n",
    "\n",
    "        model.eval()\n",
    "        valid_loss = 0\n",
    "        valid_accuracy = 0\n",
    "        with torch.no_grad():\n",
    "            for X, y in valid_dl:\n",
    "                X, y = X.to(device), y.to(device)\n",
    "\n",
    "                # Compute prediction error\n",
    "                pred = model(X)\n",
    "                valid_loss += loss_function(pred, y)\n",
    "\n",
    "                # Compute accuracy\n",
    "                valid_accuracy += (pred.argmax(1) == y).float().mean()\n",
    "\n",
    "        valid_loss /= len(valid_dl)\n",
    "        valid_accuracy /= len(valid_dl)\n",
    "\n",
    "        print(\n",
    "            f\"Epoch #{epoch + 1}:\\t validation loss: {valid_loss:.4f}\\t validation accuracy: {valid_accuracy:.4f}\"\n",
    "        )\n",
    "\n",
    "        if early_stopper is not None and early_stopper.early_stop(valid_loss):\n",
    "            print(\"Early stopping\")\n",
    "            return (valid_loss, valid_accuracy)\n",
    "\n",
    "    return (valid_loss, valid_accuracy)"
   ]
  },
  {
   "cell_type": "code",
   "execution_count": 6,
   "metadata": {},
   "outputs": [],
   "source": [
    "# Define a function to test the model\n",
    "def test(\n",
    "    model: nn.Module,\n",
    "    test_dl,\n",
    "    loss_function: Callable,\n",
    "    device: torch.device = torch.device(\"cpu\"),\n",
    ") -> Tuple[float, float]:\n",
    "    size = len(test_dl.dataset)\n",
    "    num_batches = len(test_dl)\n",
    "    model.eval()\n",
    "\n",
    "    test_loss, correct = 0, 0\n",
    "    with torch.no_grad():\n",
    "        for X, y in test_dl:\n",
    "            X, y = X.to(device), y.to(device)\n",
    "            pred = model(X)\n",
    "            test_loss += loss_function(pred, y).item()\n",
    "            correct += (pred.argmax(1) == y).type(torch.float).sum().item()\n",
    "\n",
    "    test_loss /= num_batches\n",
    "    accuracy = (correct / size) * 100\n",
    "\n",
    "    return (test_loss, accuracy)"
   ]
  },
  {
   "cell_type": "markdown",
   "metadata": {},
   "source": [
    "## Training Phase"
   ]
  },
  {
   "cell_type": "code",
   "execution_count": 7,
   "metadata": {},
   "outputs": [],
   "source": [
    "# define the constants\n",
    "BATCH_SIZE: int = 32\n",
    "LEARNING_RATE: float = 0.01\n",
    "EPOCHS: int = 10\n",
    "MOMENTUM: float = 0.9"
   ]
  },
  {
   "cell_type": "code",
   "execution_count": 8,
   "metadata": {},
   "outputs": [
    {
     "name": "stdout",
     "output_type": "stream",
     "text": [
      "Using NVIDIA GeForce GTX 1660 Ti\n"
     ]
    }
   ],
   "source": [
    "# Get cpu, gpu or mps device for training.\n",
    "device = torch.device(\"cuda\") if torch.cuda.is_available() else torch.device(\"cpu\")\n",
    "print(f\"Using {torch.cuda.get_device_name(torch.cuda.current_device())}\")"
   ]
  },
  {
   "cell_type": "code",
   "execution_count": 9,
   "metadata": {},
   "outputs": [],
   "source": [
    "base_model = LeNet().to(device)\n",
    "\n",
    "# Define the loss function and optimizer\n",
    "loss_fn = nn.CrossEntropyLoss()\n",
    "early_stopper = EarlyStopper(patience=3, min_delta=0)\n",
    "optimizer = optim.SGD(base_model.parameters(), lr=LEARNING_RATE, momentum=MOMENTUM)\n",
    "\n",
    "# create the data loaders\n",
    "train_loader = DataLoader(train_ds, batch_size=BATCH_SIZE, shuffle=True)\n",
    "validation_loader = DataLoader(valid_ds, batch_size=BATCH_SIZE)\n",
    "test_loader = DataLoader(test_ds, batch_size=BATCH_SIZE)"
   ]
  },
  {
   "cell_type": "markdown",
   "metadata": {},
   "source": [
    "### Training loop"
   ]
  },
  {
   "cell_type": "code",
   "execution_count": 10,
   "metadata": {},
   "outputs": [
    {
     "name": "stderr",
     "output_type": "stream",
     "text": [
      "/home/bubuss/miniforge3/envs/ml/lib/python3.11/site-packages/torch/nn/modules/conv.py:456: UserWarning: Applied workaround for CuDNN issue, install nvrtc.so (Triggered internally at /opt/conda/conda-bld/pytorch_1699449183005/work/aten/src/ATen/native/cudnn/Conv_v8.cpp:80.)\n",
      "  return F.conv2d(input, weight, bias, self.stride,\n"
     ]
    },
    {
     "name": "stdout",
     "output_type": "stream",
     "text": [
      "Epoch #1:\t validation loss: 0.5069\t validation accuracy: 0.8076\n",
      "Epoch #2:\t validation loss: 0.3645\t validation accuracy: 0.8656\n",
      "Epoch #3:\t validation loss: 0.3177\t validation accuracy: 0.8787\n",
      "Epoch #4:\t validation loss: 0.3086\t validation accuracy: 0.8840\n",
      "Epoch #5:\t validation loss: 0.3039\t validation accuracy: 0.8870\n",
      "Epoch #6:\t validation loss: 0.3007\t validation accuracy: 0.8888\n",
      "Epoch #7:\t validation loss: 0.2786\t validation accuracy: 0.8977\n",
      "Epoch #8:\t validation loss: 0.2996\t validation accuracy: 0.8867\n",
      "Epoch #9:\t validation loss: 0.2720\t validation accuracy: 0.8986\n",
      "Epoch #10:\t validation loss: 0.2699\t validation accuracy: 0.9006\n"
     ]
    }
   ],
   "source": [
    "valid_loss, valid_accuracy = fit(\n",
    "    base_model,\n",
    "    train_dl=train_loader,\n",
    "    valid_dl=validation_loader,\n",
    "    optimizer=optimizer,\n",
    "    loss_function=loss_fn,\n",
    "    epochs=EPOCHS,\n",
    "    device=device,\n",
    ")"
   ]
  },
  {
   "cell_type": "code",
   "execution_count": 11,
   "metadata": {},
   "outputs": [
    {
     "name": "stdout",
     "output_type": "stream",
     "text": [
      "Test Error: \n",
      " Accuracy: 89.6%, Avg loss: 0.290767 \n",
      "\n"
     ]
    }
   ],
   "source": [
    "test_loss, accuracy = test(\n",
    "    base_model, test_dl=test_loader, loss_function=loss_fn, device=device\n",
    ")\n",
    "print(f\"Test Error: \\n Accuracy: {accuracy:>0.1f}%, Avg loss: {test_loss:>8f} \\n\")"
   ]
  },
  {
   "cell_type": "code",
   "execution_count": 12,
   "metadata": {},
   "outputs": [
    {
     "name": "stdout",
     "output_type": "stream",
     "text": [
      "0 LeNet(\n",
      "  (conv1): Conv2d(1, 6, kernel_size=(5, 5), stride=(1, 1), padding=(2, 2))\n",
      "  (pool1): AvgPool2d(kernel_size=2, stride=2, padding=0)\n",
      "  (conv2): Conv2d(6, 16, kernel_size=(5, 5), stride=(1, 1))\n",
      "  (pool2): AvgPool2d(kernel_size=2, stride=2, padding=0)\n",
      "  (flatten1): Flatten(start_dim=1, end_dim=-1)\n",
      "  (fc1): Linear(in_features=400, out_features=120, bias=True)\n",
      "  (fc2): Linear(in_features=120, out_features=84, bias=True)\n",
      "  (fc3): Linear(in_features=84, out_features=10, bias=True)\n",
      ")\n",
      "1 Conv2d(1, 6, kernel_size=(5, 5), stride=(1, 1), padding=(2, 2))\n",
      "2 AvgPool2d(kernel_size=2, stride=2, padding=0)\n",
      "3 Conv2d(6, 16, kernel_size=(5, 5), stride=(1, 1))\n",
      "4 AvgPool2d(kernel_size=2, stride=2, padding=0)\n",
      "5 Flatten(start_dim=1, end_dim=-1)\n",
      "6 Linear(in_features=400, out_features=120, bias=True)\n",
      "7 Linear(in_features=120, out_features=84, bias=True)\n",
      "8 Linear(in_features=84, out_features=10, bias=True)\n"
     ]
    }
   ],
   "source": [
    "for i, module in enumerate(base_model.modules()):\n",
    "    print(i, module)"
   ]
  },
  {
   "cell_type": "markdown",
   "metadata": {},
   "source": [
    "Save the model"
   ]
  },
  {
   "cell_type": "code",
   "execution_count": 13,
   "metadata": {},
   "outputs": [],
   "source": [
    "torch.save(base_model.state_dict(), f\"models/{type(base_model).__name__}_fmnist.pth\")"
   ]
  },
  {
   "cell_type": "markdown",
   "metadata": {},
   "source": [
    "## Pruning Phase"
   ]
  },
  {
   "cell_type": "markdown",
   "metadata": {},
   "source": [
    "### One shot pruning"
   ]
  },
  {
   "cell_type": "code",
   "execution_count": 14,
   "metadata": {},
   "outputs": [],
   "source": [
    "def get_model_sparsity(m: nn.Module) -> float:\n",
    "    \"\"\"Get the sparsity of the model\n",
    "\n",
    "    Args:\n",
    "        model (nn.Module): The model to get the sparsity of\n",
    "\n",
    "    Returns:\n",
    "        float: percentage of weights that are zero\n",
    "    \"\"\"\n",
    "\n",
    "    total_weights = 0\n",
    "    total_zero_weights = 0\n",
    "    for _, module in m.named_children():\n",
    "        for param_name, param in module.named_parameters():\n",
    "            if \"weight\" in param_name:\n",
    "                total_weights += float(param.nelement())\n",
    "                total_zero_weights += float(torch.sum(param == 0))\n",
    "\n",
    "    sparsity = 100.0 * total_zero_weights / total_weights\n",
    "    return sparsity\n",
    "\n",
    "\n",
    "def get_layers_sparsity(model: nn.Module) -> list[tuple[str, float]]:\n",
    "    \"\"\"Get the sparsity of each layer in the model\n",
    "\n",
    "    Args:\n",
    "        model (nn.Module): The model to get the sparsity of\n",
    "\n",
    "    Returns:\n",
    "        list[tuple[str, float]]: List of tuples containing the layer name and the sparsity\n",
    "    \"\"\"\n",
    "\n",
    "    layers_sparsity = []\n",
    "    for layer_name, module in model.named_children():\n",
    "        for param_name, param in module.named_parameters():\n",
    "            if \"weight\" in param_name:\n",
    "                layer_sparsity = (\n",
    "                    100.0 * float(torch.sum(param == 0)) / float(param.nelement())\n",
    "                )\n",
    "                layers_sparsity.append((layer_name, layer_sparsity))\n",
    "\n",
    "    return layers_sparsity"
   ]
  },
  {
   "cell_type": "code",
   "execution_count": 15,
   "metadata": {},
   "outputs": [],
   "source": [
    "def get_parameters_to_prune(model: nn.Module) -> list[nn.Parameter]:\n",
    "    return [\n",
    "        (module, \"weight\")\n",
    "        for module in model.modules()\n",
    "        if isinstance(module, nn.Conv2d | nn.Linear)\n",
    "    ]"
   ]
  },
  {
   "cell_type": "code",
   "execution_count": 16,
   "metadata": {},
   "outputs": [],
   "source": [
    "PRUNING_VALUES = [0.2, 0.4, 0.6, 0.8, 0.9, 0.95]\n",
    "PRUNING_METHODS = {\n",
    "    \"RandomUnstructured\": prune.RandomUnstructured,\n",
    "    \"L1Unstructured\": prune.L1Unstructured,\n",
    "}"
   ]
  },
  {
   "cell_type": "code",
   "execution_count": 30,
   "metadata": {},
   "outputs": [],
   "source": [
    "@dataclass\n",
    "class PruningResult:\n",
    "    method: str\n",
    "    pruning_rate: float\n",
    "    val_accuracy: float\n",
    "    val_loss: float\n",
    "\n",
    "    def __str__(self):\n",
    "        return f\"\"\"Method:{self.method} with pruning rate: {self.pruning_rate}\n",
    "    Validation accuracy: {round(self.val_accuracy, 2)}\\tValidation loss: {round(self.val_loss, 2)}\"\"\""
   ]
  },
  {
   "cell_type": "code",
   "execution_count": 18,
   "metadata": {},
   "outputs": [
    {
     "name": "stdout",
     "output_type": "stream",
     "text": [
      "Pre-pruning sparsity: 100.00%\n",
      "Pruning rate: 0.2, method: RandomUnstructured\n"
     ]
    },
    {
     "name": "stdout",
     "output_type": "stream",
     "text": [
      "Epoch #1:\t validation loss: 0.2697\t validation accuracy: 0.9004\n",
      "Epoch #2:\t validation loss: 0.2496\t validation accuracy: 0.9117\n",
      "Epoch #3:\t validation loss: 0.2576\t validation accuracy: 0.9073\n",
      "Post-pruning sparsity: 80.00%\n",
      "Pre-pruning sparsity: 100.00%\n",
      "Pruning rate: 0.2, method: L1Unstructured\n",
      "Epoch #1:\t validation loss: 0.2599\t validation accuracy: 0.9056\n",
      "Epoch #2:\t validation loss: 0.2464\t validation accuracy: 0.9109\n",
      "Epoch #3:\t validation loss: 0.2606\t validation accuracy: 0.9097\n",
      "Post-pruning sparsity: 80.00%\n",
      "Pre-pruning sparsity: 100.00%\n",
      "Pruning rate: 0.4, method: RandomUnstructured\n",
      "Epoch #1:\t validation loss: 0.3030\t validation accuracy: 0.8860\n",
      "Epoch #2:\t validation loss: 0.2604\t validation accuracy: 0.9017\n",
      "Epoch #3:\t validation loss: 0.2669\t validation accuracy: 0.8997\n",
      "Post-pruning sparsity: 60.00%\n",
      "Pre-pruning sparsity: 100.00%\n",
      "Pruning rate: 0.4, method: L1Unstructured\n",
      "Epoch #1:\t validation loss: 0.2435\t validation accuracy: 0.9103\n",
      "Epoch #2:\t validation loss: 0.2744\t validation accuracy: 0.9021\n",
      "Epoch #3:\t validation loss: 0.2434\t validation accuracy: 0.9098\n",
      "Post-pruning sparsity: 60.00%\n",
      "Pre-pruning sparsity: 100.00%\n",
      "Pruning rate: 0.6, method: RandomUnstructured\n",
      "Epoch #1:\t validation loss: 0.3619\t validation accuracy: 0.8653\n",
      "Epoch #2:\t validation loss: 0.3097\t validation accuracy: 0.8813\n",
      "Epoch #3:\t validation loss: 0.2935\t validation accuracy: 0.8937\n",
      "Post-pruning sparsity: 40.00%\n",
      "Pre-pruning sparsity: 100.00%\n",
      "Pruning rate: 0.6, method: L1Unstructured\n",
      "Epoch #1:\t validation loss: 0.2522\t validation accuracy: 0.9082\n",
      "Epoch #2:\t validation loss: 0.2531\t validation accuracy: 0.9071\n",
      "Epoch #3:\t validation loss: 0.2543\t validation accuracy: 0.9082\n",
      "Post-pruning sparsity: 40.00%\n",
      "Pre-pruning sparsity: 100.00%\n",
      "Pruning rate: 0.8, method: RandomUnstructured\n",
      "Epoch #1:\t validation loss: 0.5194\t validation accuracy: 0.8083\n",
      "Epoch #2:\t validation loss: 0.4421\t validation accuracy: 0.8369\n",
      "Epoch #3:\t validation loss: 0.4065\t validation accuracy: 0.8487\n",
      "Post-pruning sparsity: 20.00%\n",
      "Pre-pruning sparsity: 100.00%\n",
      "Pruning rate: 0.8, method: L1Unstructured\n",
      "Epoch #1:\t validation loss: 0.2684\t validation accuracy: 0.8972\n",
      "Epoch #2:\t validation loss: 0.2404\t validation accuracy: 0.9099\n",
      "Epoch #3:\t validation loss: 0.2499\t validation accuracy: 0.9097\n",
      "Post-pruning sparsity: 20.00%\n",
      "Pre-pruning sparsity: 100.00%\n",
      "Pruning rate: 0.9, method: RandomUnstructured\n",
      "Epoch #1:\t validation loss: 0.6860\t validation accuracy: 0.7562\n",
      "Epoch #2:\t validation loss: 0.5492\t validation accuracy: 0.7901\n",
      "Epoch #3:\t validation loss: 0.5332\t validation accuracy: 0.8086\n",
      "Post-pruning sparsity: 10.00%\n",
      "Pre-pruning sparsity: 100.00%\n",
      "Pruning rate: 0.9, method: L1Unstructured\n",
      "Epoch #1:\t validation loss: 0.2998\t validation accuracy: 0.8849\n",
      "Epoch #2:\t validation loss: 0.2610\t validation accuracy: 0.9039\n",
      "Epoch #3:\t validation loss: 0.2676\t validation accuracy: 0.8979\n",
      "Post-pruning sparsity: 10.00%\n",
      "Pre-pruning sparsity: 100.00%\n",
      "Pruning rate: 0.95, method: RandomUnstructured\n",
      "Epoch #1:\t validation loss: 2.2972\t validation accuracy: 0.1865\n",
      "Epoch #2:\t validation loss: 0.8517\t validation accuracy: 0.6996\n",
      "Epoch #3:\t validation loss: 0.6868\t validation accuracy: 0.7468\n",
      "Post-pruning sparsity: 5.00%\n",
      "Pre-pruning sparsity: 100.00%\n",
      "Pruning rate: 0.95, method: L1Unstructured\n",
      "Epoch #1:\t validation loss: 0.2995\t validation accuracy: 0.8885\n",
      "Epoch #2:\t validation loss: 0.3004\t validation accuracy: 0.8922\n",
      "Epoch #3:\t validation loss: 0.2912\t validation accuracy: 0.8923\n",
      "Post-pruning sparsity: 5.00%\n"
     ]
    }
   ],
   "source": [
    "results = []\n",
    "for pruning_rate in PRUNING_VALUES:\n",
    "    for method_name, method in PRUNING_METHODS.items():\n",
    "        # load the model\n",
    "        temp_model = LeNet().to(device)\n",
    "        temp_model.load_state_dict(torch.load(\"models/LeNet_fmnist.pth\"))\n",
    "        model_parameters = get_parameters_to_prune(temp_model)\n",
    "\n",
    "        loss_fn = nn.CrossEntropyLoss()\n",
    "        optimizer = optim.SGD(\n",
    "            temp_model.parameters(), lr=LEARNING_RATE, momentum=MOMENTUM\n",
    "        )\n",
    "\n",
    "        # create the data loaders\n",
    "        train_loader = DataLoader(train_ds, batch_size=BATCH_SIZE, shuffle=True)\n",
    "        validation_loader = DataLoader(valid_ds, batch_size=BATCH_SIZE)\n",
    "        test_loader = DataLoader(test_ds, batch_size=BATCH_SIZE)\n",
    "\n",
    "        print(f\"Pre-pruning sparsity: {100 - get_model_sparsity(temp_model):.2f}%\")\n",
    "\n",
    "        # prune the model\n",
    "        prune.global_unstructured(\n",
    "            parameters=model_parameters,\n",
    "            pruning_method=method,\n",
    "            amount=pruning_rate,\n",
    "        )\n",
    "\n",
    "        print(f\"Pruning rate: {pruning_rate}, method: {method_name}\")\n",
    "\n",
    "        val_loss, val_accuracy = fit(\n",
    "            model=temp_model,\n",
    "            train_dl=train_loader,\n",
    "            valid_dl=validation_loader,\n",
    "            optimizer=optimizer,\n",
    "            loss_function=loss_fn,\n",
    "            epochs=3,\n",
    "            device=device,\n",
    "        )\n",
    "\n",
    "        results.append(\n",
    "            PruningResult(\n",
    "                method=method_name,\n",
    "                pruning_rate=pruning_rate,\n",
    "                val_accuracy=val_accuracy,\n",
    "                val_loss=val_loss,\n",
    "            )\n",
    "        )\n",
    "\n",
    "        for module, name in model_parameters:\n",
    "            prune.remove(module, name)\n",
    "\n",
    "        print(f\"Post-pruning sparsity: {100 - get_model_sparsity(temp_model):.2f}%\")\n",
    "        torch.save(\n",
    "            temp_model.state_dict(),\n",
    "            f\"models/{type(temp_model).__name__}_pruned_{pruning_rate}_{method_name}.pth\",\n",
    "        )"
   ]
  },
  {
   "cell_type": "code",
   "execution_count": 47,
   "metadata": {},
   "outputs": [
    {
     "name": "stdout",
     "output_type": "stream",
     "text": [
      "Method\t Pruning Rate\t Validation Loss\t Validation Accuracy\n",
      "                method  pruning_rate  val_accuracy  val_loss\n",
      "0   RandomUnstructured          0.20          0.91      0.26\n",
      "1       L1Unstructured          0.20          0.91      0.26\n",
      "2   RandomUnstructured          0.40          0.90      0.27\n",
      "3       L1Unstructured          0.40          0.91      0.24\n",
      "4   RandomUnstructured          0.60          0.89      0.29\n",
      "5       L1Unstructured          0.60          0.91      0.25\n",
      "6   RandomUnstructured          0.80          0.85      0.41\n",
      "7       L1Unstructured          0.80          0.91      0.25\n",
      "8   RandomUnstructured          0.90          0.81      0.53\n",
      "9       L1Unstructured          0.90          0.90      0.27\n",
      "10  RandomUnstructured          0.95          0.75      0.69\n",
      "11      L1Unstructured          0.95          0.89      0.29\n"
     ]
    }
   ],
   "source": [
    "print(\"Method\\t Pruning Rate\\t Validation Loss\\t Validation Accuracy\")\n",
    "\n",
    "results_df: pd.DataFrame = pd.DataFrame([asdict(result) for result in results])\n",
    "results_df[\"val_accuracy\"] = results_df[\"val_accuracy\"].apply(\n",
    "    lambda x: round(x.item(), 2)\n",
    ")\n",
    "results_df[\"val_loss\"] = results_df[\"val_loss\"].apply(lambda x: round(x.item(), 2))\n",
    "print(results_df)"
   ]
  },
  {
   "cell_type": "markdown",
   "metadata": {},
   "source": [
    "### Iterative pruning"
   ]
  },
  {
   "cell_type": "code",
   "execution_count": 20,
   "metadata": {},
   "outputs": [
    {
     "name": "stdout",
     "output_type": "stream",
     "text": [
      "Iterative pruning using RandomUnstructured for 20 iterations with amount 0.01\n",
      "Epoch #1:\t validation loss: 0.2858\t validation accuracy: 0.8955\n",
      "Iteration #1:\t validation loss: 0.2858\t validation accuracy: 0.8955\n",
      "Epoch #1:\t validation loss: 0.3293\t validation accuracy: 0.8765\n",
      "Iteration #2:\t validation loss: 0.3293\t validation accuracy: 0.8765\n",
      "Epoch #1:\t validation loss: 0.3751\t validation accuracy: 0.8564\n",
      "Iteration #3:\t validation loss: 0.3751\t validation accuracy: 0.8564\n",
      "Epoch #1:\t validation loss: 0.3741\t validation accuracy: 0.8592\n",
      "Iteration #4:\t validation loss: 0.3741\t validation accuracy: 0.8592\n",
      "Epoch #1:\t validation loss: 0.4481\t validation accuracy: 0.8353\n",
      "Iteration #5:\t validation loss: 0.4481\t validation accuracy: 0.8353\n",
      "Epoch #1:\t validation loss: 0.4704\t validation accuracy: 0.8267\n",
      "Iteration #6:\t validation loss: 0.4704\t validation accuracy: 0.8267\n",
      "Epoch #1:\t validation loss: 0.5506\t validation accuracy: 0.8055\n",
      "Iteration #7:\t validation loss: 0.5506\t validation accuracy: 0.8055\n",
      "Epoch #1:\t validation loss: 0.6849\t validation accuracy: 0.7613\n",
      "Iteration #8:\t validation loss: 0.6849\t validation accuracy: 0.7613\n",
      "Epoch #1:\t validation loss: 0.6053\t validation accuracy: 0.7822\n",
      "Iteration #9:\t validation loss: 0.6053\t validation accuracy: 0.7822\n",
      "Epoch #1:\t validation loss: 0.6334\t validation accuracy: 0.7714\n",
      "Iteration #10:\t validation loss: 0.6334\t validation accuracy: 0.7714\n",
      "Epoch #1:\t validation loss: 0.6656\t validation accuracy: 0.7532\n",
      "Iteration #11:\t validation loss: 0.6656\t validation accuracy: 0.7532\n",
      "Epoch #1:\t validation loss: 0.7145\t validation accuracy: 0.7380\n",
      "Iteration #12:\t validation loss: 0.7145\t validation accuracy: 0.7380\n",
      "Epoch #1:\t validation loss: 0.5935\t validation accuracy: 0.7690\n",
      "Iteration #13:\t validation loss: 0.5935\t validation accuracy: 0.7690\n",
      "Epoch #1:\t validation loss: 0.6184\t validation accuracy: 0.7709\n",
      "Iteration #14:\t validation loss: 0.6184\t validation accuracy: 0.7709\n",
      "Epoch #1:\t validation loss: 0.8282\t validation accuracy: 0.6685\n",
      "Iteration #15:\t validation loss: 0.8282\t validation accuracy: 0.6685\n",
      "Epoch #1:\t validation loss: 0.8735\t validation accuracy: 0.6616\n",
      "Iteration #16:\t validation loss: 0.8735\t validation accuracy: 0.6616\n",
      "Epoch #1:\t validation loss: 0.9243\t validation accuracy: 0.6371\n",
      "Iteration #17:\t validation loss: 0.9243\t validation accuracy: 0.6371\n",
      "Epoch #1:\t validation loss: 1.0047\t validation accuracy: 0.6063\n",
      "Iteration #18:\t validation loss: 1.0047\t validation accuracy: 0.6063\n",
      "Epoch #1:\t validation loss: 1.0242\t validation accuracy: 0.5949\n",
      "Iteration #19:\t validation loss: 1.0242\t validation accuracy: 0.5949\n",
      "Epoch #1:\t validation loss: 1.1158\t validation accuracy: 0.5623\n",
      "Iteration #20:\t validation loss: 1.1158\t validation accuracy: 0.5623\n",
      "Iterative pruning using L1Unstructured for 20 iterations with amount 0.01\n",
      "Epoch #1:\t validation loss: 0.2699\t validation accuracy: 0.9007\n",
      "Iteration #1:\t validation loss: 0.2699\t validation accuracy: 0.9007\n",
      "Epoch #1:\t validation loss: 0.2699\t validation accuracy: 0.9007\n",
      "Iteration #2:\t validation loss: 0.2699\t validation accuracy: 0.9007\n",
      "Epoch #1:\t validation loss: 0.2699\t validation accuracy: 0.9007\n",
      "Iteration #3:\t validation loss: 0.2699\t validation accuracy: 0.9007\n",
      "Epoch #1:\t validation loss: 0.2698\t validation accuracy: 0.9007\n",
      "Iteration #4:\t validation loss: 0.2698\t validation accuracy: 0.9007\n",
      "Epoch #1:\t validation loss: 0.2699\t validation accuracy: 0.9007\n",
      "Iteration #5:\t validation loss: 0.2699\t validation accuracy: 0.9007\n",
      "Epoch #1:\t validation loss: 0.2698\t validation accuracy: 0.9007\n",
      "Iteration #6:\t validation loss: 0.2698\t validation accuracy: 0.9007\n",
      "Epoch #1:\t validation loss: 0.2700\t validation accuracy: 0.9006\n",
      "Iteration #7:\t validation loss: 0.2700\t validation accuracy: 0.9006\n",
      "Epoch #1:\t validation loss: 0.2700\t validation accuracy: 0.9003\n",
      "Iteration #8:\t validation loss: 0.2700\t validation accuracy: 0.9003\n",
      "Epoch #1:\t validation loss: 0.2700\t validation accuracy: 0.9003\n",
      "Iteration #9:\t validation loss: 0.2700\t validation accuracy: 0.9003\n",
      "Epoch #1:\t validation loss: 0.2699\t validation accuracy: 0.9003\n",
      "Iteration #10:\t validation loss: 0.2699\t validation accuracy: 0.9003\n",
      "Epoch #1:\t validation loss: 0.2698\t validation accuracy: 0.9004\n",
      "Iteration #11:\t validation loss: 0.2698\t validation accuracy: 0.9004\n",
      "Epoch #1:\t validation loss: 0.2699\t validation accuracy: 0.9008\n",
      "Iteration #12:\t validation loss: 0.2699\t validation accuracy: 0.9008\n",
      "Epoch #1:\t validation loss: 0.2701\t validation accuracy: 0.9000\n",
      "Iteration #13:\t validation loss: 0.2701\t validation accuracy: 0.9000\n",
      "Epoch #1:\t validation loss: 0.2703\t validation accuracy: 0.9003\n",
      "Iteration #14:\t validation loss: 0.2703\t validation accuracy: 0.9003\n",
      "Epoch #1:\t validation loss: 0.2701\t validation accuracy: 0.9004\n",
      "Iteration #15:\t validation loss: 0.2701\t validation accuracy: 0.9004\n",
      "Epoch #1:\t validation loss: 0.2708\t validation accuracy: 0.9003\n",
      "Iteration #16:\t validation loss: 0.2708\t validation accuracy: 0.9003\n",
      "Epoch #1:\t validation loss: 0.2706\t validation accuracy: 0.9000\n",
      "Iteration #17:\t validation loss: 0.2706\t validation accuracy: 0.9000\n",
      "Epoch #1:\t validation loss: 0.2705\t validation accuracy: 0.9001\n",
      "Iteration #18:\t validation loss: 0.2705\t validation accuracy: 0.9001\n",
      "Epoch #1:\t validation loss: 0.2710\t validation accuracy: 0.8996\n",
      "Iteration #19:\t validation loss: 0.2710\t validation accuracy: 0.8996\n",
      "Epoch #1:\t validation loss: 0.2715\t validation accuracy: 0.8992\n",
      "Iteration #20:\t validation loss: 0.2715\t validation accuracy: 0.8992\n"
     ]
    }
   ],
   "source": [
    "RANGE: int = 20\n",
    "ITER_PRUNING_AMOUNT: float = 0.01\n",
    "for method_name, method in PRUNING_METHODS.items():\n",
    "    print(\n",
    "        f\"Iterative pruning using {method_name} for {RANGE} iterations with amount {ITER_PRUNING_AMOUNT}\"\n",
    "    )\n",
    "\n",
    "    iterative_model = LeNet().to(device)\n",
    "    iterative_model.load_state_dict(torch.load(\"models/LeNet_fmnist.pth\"))\n",
    "\n",
    "    iterative_model_parameters = get_parameters_to_prune(iterative_model)\n",
    "    loss_fn = nn.CrossEntropyLoss()\n",
    "    optimizer = optim.SGD(temp_model.parameters(), lr=LEARNING_RATE, momentum=MOMENTUM)\n",
    "\n",
    "    # create the data loaders\n",
    "    train_loader = DataLoader(train_ds, batch_size=BATCH_SIZE, shuffle=True)\n",
    "    validation_loader = DataLoader(valid_ds, batch_size=BATCH_SIZE)\n",
    "    test_loader = DataLoader(test_ds, batch_size=BATCH_SIZE)\n",
    "\n",
    "    for iteration in range(RANGE):\n",
    "        prune.global_unstructured(\n",
    "            parameters=iterative_model_parameters,\n",
    "            pruning_method=method,\n",
    "            amount=ITER_PRUNING_AMOUNT,\n",
    "        )\n",
    "\n",
    "        val_loss, val_accuracy = fit(\n",
    "            model=iterative_model,\n",
    "            train_dl=train_loader,\n",
    "            valid_dl=validation_loader,\n",
    "            optimizer=optimizer,\n",
    "            loss_function=loss_fn,\n",
    "            epochs=1,\n",
    "            device=device,\n",
    "        )\n",
    "\n",
    "        print(\n",
    "            f\"Iteration #{iteration + 1}:\\t validation loss: {val_loss:.4f}\\t validation accuracy: {val_accuracy:.4f}\"\n",
    "        )\n",
    "\n",
    "    for module, name in iterative_model_parameters:\n",
    "        prune.remove(module, name)\n",
    "\n",
    "    torch.save(\n",
    "        iterative_model.state_dict(),\n",
    "        f\"models/{type(iterative_model).__name__}_iterative_pruned_0.{RANGE}_{method_name}.pth\",\n",
    "    )"
   ]
  },
  {
   "cell_type": "markdown",
   "metadata": {},
   "source": [
    "## Load and test the models"
   ]
  },
  {
   "cell_type": "code",
   "execution_count": 21,
   "metadata": {},
   "outputs": [
    {
     "name": "stdout",
     "output_type": "stream",
     "text": [
      "Loaded LeNet_pruned_0.2_L1Unstructured\n",
      "Loaded LeNet_pruned_0.8_RandomUnstructured\n",
      "Loaded LeNet_pruned_0.2_RandomUnstructured\n",
      "Loaded LeNet_iterative_pruned_0.20_RandomUnstructured\n",
      "Loaded LeNet_fmnist\n",
      "Loaded LeNet_pruned_0.8_L1Unstructured\n",
      "Loaded LeNet_pruned_0.4_RandomUnstructured\n",
      "Loaded LeNet_pruned_0.9_RandomUnstructured\n",
      "Loaded LeNet_iterative_pruned_0.20_L1Unstructured\n",
      "Loaded LeNet_pruned_0.95_L1Unstructured\n",
      "Loaded LeNet_pruned_0.4_L1Unstructured\n",
      "Loaded LeNet_pruned_0.6_L1Unstructured\n",
      "Loaded LeNet_pruned_0.9_L1Unstructured\n",
      "Loaded LeNet_pruned_0.95_RandomUnstructured\n",
      "Loaded LeNet_pruned_0.6_RandomUnstructured\n"
     ]
    }
   ],
   "source": [
    "models = []\n",
    "for file in Path(\"models\").glob(\"*.pth\"):\n",
    "    model = LeNet().to(device)\n",
    "    temp = torch.load(file)\n",
    "    model.load_state_dict(temp)\n",
    "    print(f\"Loaded {file.stem}\")\n",
    "    models.append((file.stem, model))"
   ]
  },
  {
   "cell_type": "code",
   "execution_count": 22,
   "metadata": {},
   "outputs": [],
   "source": [
    "# create the data loaders\n",
    "train_loader = DataLoader(train_ds, batch_size=BATCH_SIZE, shuffle=True)\n",
    "validation_loader = DataLoader(valid_ds, batch_size=BATCH_SIZE)\n",
    "test_loader = DataLoader(test_ds, batch_size=BATCH_SIZE)\n",
    "loss_fn = nn.CrossEntropyLoss()"
   ]
  },
  {
   "cell_type": "code",
   "execution_count": 48,
   "metadata": {},
   "outputs": [
    {
     "name": "stdout",
     "output_type": "stream",
     "text": [
      "Model LeNet_fmnist\n",
      "Test Error: \n",
      " Accuracy: 89.6%, Avg loss: 0.290767 \n",
      "\n",
      "Model LeNet_iterative_pruned_0.20_L1Unstructured\n",
      "Test Error: \n",
      " Accuracy: 89.5%, Avg loss: 0.292396 \n",
      "\n",
      "Model LeNet_iterative_pruned_0.20_RandomUnstructured\n",
      "Test Error: \n",
      " Accuracy: 55.9%, Avg loss: 1.127697 \n",
      "\n",
      "Model LeNet_pruned_0.2_L1Unstructured\n",
      "Test Error: \n",
      " Accuracy: 90.2%, Avg loss: 0.285993 \n",
      "\n",
      "Model LeNet_pruned_0.2_RandomUnstructured\n",
      "Test Error: \n",
      " Accuracy: 90.0%, Avg loss: 0.277502 \n",
      "\n",
      "Model LeNet_pruned_0.4_L1Unstructured\n",
      "Test Error: \n",
      " Accuracy: 90.6%, Avg loss: 0.264413 \n",
      "\n",
      "Model LeNet_pruned_0.4_RandomUnstructured\n",
      "Test Error: \n",
      " Accuracy: 89.6%, Avg loss: 0.289463 \n",
      "\n",
      "Model LeNet_pruned_0.6_L1Unstructured\n",
      "Test Error: \n",
      " Accuracy: 90.1%, Avg loss: 0.280371 \n",
      "\n",
      "Model LeNet_pruned_0.6_RandomUnstructured\n",
      "Test Error: \n",
      " Accuracy: 88.7%, Avg loss: 0.313334 \n",
      "\n",
      "Model LeNet_pruned_0.8_L1Unstructured\n",
      "Test Error: \n",
      " Accuracy: 90.3%, Avg loss: 0.272401 \n",
      "\n",
      "Model LeNet_pruned_0.8_RandomUnstructured\n",
      "Test Error: \n",
      " Accuracy: 84.0%, Avg loss: 0.435870 \n",
      "\n",
      "Model LeNet_pruned_0.95_L1Unstructured\n",
      "Test Error: \n",
      " Accuracy: 88.5%, Avg loss: 0.311078 \n",
      "\n",
      "Model LeNet_pruned_0.95_RandomUnstructured\n",
      "Test Error: \n",
      " Accuracy: 72.9%, Avg loss: 0.721671 \n",
      "\n",
      "Model LeNet_pruned_0.9_L1Unstructured\n",
      "Test Error: \n",
      " Accuracy: 89.1%, Avg loss: 0.293395 \n",
      "\n",
      "Model LeNet_pruned_0.9_RandomUnstructured\n",
      "Test Error: \n",
      " Accuracy: 80.0%, Avg loss: 0.556980 \n",
      "\n"
     ]
    }
   ],
   "source": [
    "for name, model in sorted(models, key=lambda x: x[0]):\n",
    "    test_loss, accuracy = test(\n",
    "        model, test_dl=test_loader, loss_function=loss_fn, device=device\n",
    "    )\n",
    "    print(f\"Model {name}\")\n",
    "    print(f\"Test Error: \\n Accuracy: {accuracy:>0.1f}%, Avg loss: {test_loss:>2f} \\n\")"
   ]
  },
  {
   "cell_type": "markdown",
   "metadata": {},
   "source": [
    "### Print the weights of the models"
   ]
  },
  {
   "cell_type": "code",
   "execution_count": 49,
   "metadata": {},
   "outputs": [
    {
     "name": "stdout",
     "output_type": "stream",
     "text": [
      "Model LeNet_fmnist\n",
      "##########\n",
      "Layer Sparsity:\n",
      "conv1: 100.00%\n",
      "conv2: 100.00%\n",
      "fc1: 100.00%\n",
      "fc2: 100.00%\n",
      "fc3: 100.00%\n",
      "Model Sparsity: 100.0%\n",
      "Model LeNet_iterative_pruned_0.20_L1Unstructured\n",
      "##########\n",
      "Layer Sparsity:\n",
      "conv1: 98.67%\n",
      "conv2: 91.67%\n",
      "fc1: 79.75%\n",
      "fc2: 87.81%\n",
      "fc3: 95.24%\n",
      "Model Sparsity: 81.79111761835041%\n",
      "Model LeNet_iterative_pruned_0.20_RandomUnstructured\n",
      "##########\n",
      "Layer Sparsity:\n",
      "conv1: 76.67%\n",
      "conv2: 80.96%\n",
      "fc1: 81.93%\n",
      "fc2: 81.60%\n",
      "fc3: 79.40%\n",
      "Model Sparsity: 81.79111761835041%\n",
      "Model LeNet_pruned_0.2_L1Unstructured\n",
      "##########\n",
      "Layer Sparsity:\n",
      "conv1: 98.67%\n",
      "conv2: 91.00%\n",
      "fc1: 77.73%\n",
      "fc2: 86.68%\n",
      "fc3: 94.76%\n",
      "Model Sparsity: 80.0%\n",
      "Model LeNet_pruned_0.2_RandomUnstructured\n",
      "##########\n",
      "Layer Sparsity:\n",
      "conv1: 83.33%\n",
      "conv2: 80.79%\n",
      "fc1: 79.99%\n",
      "fc2: 79.53%\n",
      "fc3: 83.33%\n",
      "Model Sparsity: 80.0%\n",
      "Model LeNet_pruned_0.4_L1Unstructured\n",
      "##########\n",
      "Layer Sparsity:\n",
      "conv1: 96.67%\n",
      "conv2: 81.46%\n",
      "fc1: 55.54%\n",
      "fc2: 73.13%\n",
      "fc3: 89.64%\n",
      "Model Sparsity: 60.0%\n",
      "Model LeNet_pruned_0.4_RandomUnstructured\n",
      "##########\n",
      "Layer Sparsity:\n",
      "conv1: 64.00%\n",
      "conv2: 60.88%\n",
      "fc1: 60.07%\n",
      "fc2: 59.68%\n",
      "fc3: 56.79%\n",
      "Model Sparsity: 60.0%\n",
      "Model LeNet_pruned_0.6_L1Unstructured\n",
      "##########\n",
      "Layer Sparsity:\n",
      "conv1: 94.00%\n",
      "conv2: 69.50%\n",
      "fc1: 33.89%\n",
      "fc2: 57.65%\n",
      "fc3: 83.69%\n",
      "Model Sparsity: 40.0%\n",
      "Model LeNet_pruned_0.6_RandomUnstructured\n",
      "##########\n",
      "Layer Sparsity:\n",
      "conv1: 34.00%\n",
      "conv2: 38.25%\n",
      "fc1: 40.10%\n",
      "fc2: 39.97%\n",
      "fc3: 40.60%\n",
      "Model Sparsity: 40.0%\n",
      "Model LeNet_pruned_0.8_L1Unstructured\n",
      "##########\n",
      "Layer Sparsity:\n",
      "conv1: 86.67%\n",
      "conv2: 49.92%\n",
      "fc1: 14.97%\n",
      "fc2: 31.61%\n",
      "fc3: 70.95%\n",
      "Model Sparsity: 20.0%\n",
      "Model LeNet_pruned_0.8_RandomUnstructured\n",
      "##########\n",
      "Layer Sparsity:\n",
      "conv1: 15.33%\n",
      "conv2: 18.38%\n",
      "fc1: 20.09%\n",
      "fc2: 19.98%\n",
      "fc3: 20.36%\n",
      "Model Sparsity: 20.0%\n",
      "Model LeNet_pruned_0.95_L1Unstructured\n",
      "##########\n",
      "Layer Sparsity:\n",
      "conv1: 74.67%\n",
      "conv2: 25.92%\n",
      "fc1: 2.42%\n",
      "fc2: 7.64%\n",
      "fc3: 48.33%\n",
      "Model Sparsity: 5.000813404912961%\n",
      "Model LeNet_pruned_0.95_RandomUnstructured\n",
      "##########\n",
      "Layer Sparsity:\n",
      "conv1: 4.67%\n",
      "conv2: 5.12%\n",
      "fc1: 5.03%\n",
      "fc2: 4.88%\n",
      "fc3: 4.64%\n",
      "Model Sparsity: 5.000813404912961%\n",
      "Model LeNet_pruned_0.9_L1Unstructured\n",
      "##########\n",
      "Layer Sparsity:\n",
      "conv1: 82.00%\n",
      "conv2: 37.25%\n",
      "fc1: 6.30%\n",
      "fc2: 16.08%\n",
      "fc3: 57.98%\n",
      "Model Sparsity: 10.0%\n",
      "Model LeNet_pruned_0.9_RandomUnstructured\n",
      "##########\n",
      "Layer Sparsity:\n",
      "conv1: 10.67%\n",
      "conv2: 9.33%\n",
      "fc1: 10.07%\n",
      "fc2: 9.80%\n",
      "fc3: 10.12%\n",
      "Model Sparsity: 10.0%\n"
     ]
    }
   ],
   "source": [
    "for name, model in sorted(models, key=lambda x: x[0]):\n",
    "    print(f\"Model {name}\")\n",
    "    print(\"#\" * 10)\n",
    "\n",
    "    print(\"Layer Sparsity:\")\n",
    "    for layer_name, layer_sparsity in get_layers_sparsity(model):\n",
    "        print(f\"{layer_name}: {100 - layer_sparsity:.2f}%\")\n",
    "    print(f\"Model Sparsity: {100 - get_model_sparsity(model)}%\")"
   ]
  }
 ],
 "metadata": {
  "kernelspec": {
   "display_name": "ml-pruning",
   "language": "python",
   "name": "python3"
  },
  "language_info": {
   "codemirror_mode": {
    "name": "ipython",
    "version": 3
   },
   "file_extension": ".py",
   "mimetype": "text/x-python",
   "name": "python",
   "nbconvert_exporter": "python",
   "pygments_lexer": "ipython3",
   "version": "3.11.6"
  }
 },
 "nbformat": 4,
 "nbformat_minor": 2
}
