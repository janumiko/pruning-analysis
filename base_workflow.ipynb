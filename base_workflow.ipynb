{
 "cells": [
  {
   "cell_type": "code",
   "execution_count": 9,
   "metadata": {},
   "outputs": [],
   "source": [
    "import torch\n",
    "\n",
    "import torch.nn as nn\n",
    "import torch.optim as optim\n",
    "\n",
    "from utility.cifar_dataset import get_dataloaders\n",
    "import utility\n",
    "\n",
    "from constants import DATA_PATH, MODELS_PATH\n",
    "from LeNet import LeNet, BATCH_SIZE, EPOCHS\n",
    "from pruning_metadata import PruningMetadata\n",
    "\n",
    "from dataclasses import asdict"
   ]
  },
  {
   "cell_type": "markdown",
   "metadata": {},
   "source": [
    "### Load the data"
   ]
  },
  {
   "cell_type": "code",
   "execution_count": 10,
   "metadata": {},
   "outputs": [
    {
     "name": "stdout",
     "output_type": "stream",
     "text": [
      "Files already downloaded and verified\n",
      "Files already downloaded and verified\n"
     ]
    }
   ],
   "source": [
    "train_loader, validation_loader, test_loader = get_dataloaders(\n",
    "    data_path=DATA_PATH, batch_size=BATCH_SIZE\n",
    ")"
   ]
  },
  {
   "cell_type": "markdown",
   "metadata": {},
   "source": [
    "## Training Phase"
   ]
  },
  {
   "cell_type": "code",
   "execution_count": 11,
   "metadata": {},
   "outputs": [
    {
     "name": "stdout",
     "output_type": "stream",
     "text": [
      "Using NVIDIA GeForce GTX 1660 Ti\n"
     ]
    }
   ],
   "source": [
    "# Get cpu, gpu or mps device for training.\n",
    "device = torch.device(\"cuda\") if torch.cuda.is_available() else torch.device(\"cpu\")\n",
    "print(f\"Using {torch.cuda.get_device_name(torch.cuda.current_device())}\")"
   ]
  },
  {
   "cell_type": "code",
   "execution_count": 12,
   "metadata": {},
   "outputs": [],
   "source": [
    "base_model = LeNet().to(device)\n",
    "\n",
    "# Define the loss function and optimizer\n",
    "cross_entropy = nn.CrossEntropyLoss()\n",
    "early_stopper = None\n",
    "optimizer = optim.AdamW(base_model.parameters())"
   ]
  },
  {
   "cell_type": "markdown",
   "metadata": {},
   "source": [
    "### Training loop"
   ]
  },
  {
   "cell_type": "code",
   "execution_count": 13,
   "metadata": {},
   "outputs": [
    {
     "name": "stdout",
     "output_type": "stream",
     "text": [
      "Epoch: 0\n",
      "Train Loss: 1.7302, Valid Loss: 1.5031, Valid Accuracy: 0.4582\n",
      "Epoch: 1\n",
      "Train Loss: 1.4363, Valid Loss: 1.3837, Valid Accuracy: 0.5046\n",
      "Epoch: 2\n",
      "Train Loss: 1.3177, Valid Loss: 1.2931, Valid Accuracy: 0.5347\n",
      "Epoch: 3\n",
      "Train Loss: 1.2223, Valid Loss: 1.2232, Valid Accuracy: 0.5621\n",
      "Epoch: 4\n",
      "Train Loss: 1.1559, Valid Loss: 1.2106, Valid Accuracy: 0.5704\n",
      "Epoch: 5\n",
      "Train Loss: 1.0973, Valid Loss: 1.1656, Valid Accuracy: 0.5905\n",
      "Epoch: 6\n",
      "Train Loss: 1.0502, Valid Loss: 1.1290, Valid Accuracy: 0.6022\n",
      "Epoch: 7\n",
      "Train Loss: 1.0040, Valid Loss: 1.1098, Valid Accuracy: 0.6120\n",
      "Epoch: 8\n",
      "Train Loss: 0.9568, Valid Loss: 1.0974, Valid Accuracy: 0.6130\n",
      "Epoch: 9\n",
      "Train Loss: 0.9189, Valid Loss: 1.0935, Valid Accuracy: 0.6185\n",
      "Epoch: 10\n",
      "Train Loss: 0.8843, Valid Loss: 1.0899, Valid Accuracy: 0.6237\n",
      "Epoch: 11\n",
      "Train Loss: 0.8482, Valid Loss: 1.0908, Valid Accuracy: 0.6223\n",
      "Epoch: 12\n",
      "Train Loss: 0.8113, Valid Loss: 1.0667, Valid Accuracy: 0.6310\n",
      "Epoch: 13\n",
      "Train Loss: 0.7824, Valid Loss: 1.0607, Valid Accuracy: 0.6411\n",
      "Epoch: 14\n",
      "Train Loss: 0.7526, Valid Loss: 1.0845, Valid Accuracy: 0.6266\n",
      "Epoch: 15\n",
      "Train Loss: 0.7255, Valid Loss: 1.0607, Valid Accuracy: 0.6381\n",
      "Epoch: 16\n",
      "Train Loss: 0.6928, Valid Loss: 1.1105, Valid Accuracy: 0.6311\n",
      "Epoch: 17\n",
      "Train Loss: 0.6696, Valid Loss: 1.1341, Valid Accuracy: 0.6312\n",
      "Epoch: 18\n",
      "Train Loss: 0.6464, Valid Loss: 1.1129, Valid Accuracy: 0.6457\n",
      "Epoch: 19\n",
      "Train Loss: 0.6205, Valid Loss: 1.1210, Valid Accuracy: 0.6472\n"
     ]
    }
   ],
   "source": [
    "last_epoch = 0\n",
    "for epoch in range(EPOCHS):\n",
    "    train_loss = utility.training.train_epoch(\n",
    "        module=base_model,\n",
    "        train_dl=train_loader,\n",
    "        optimizer=optimizer,\n",
    "        loss_function=cross_entropy,\n",
    "        device=device,\n",
    "    )\n",
    "\n",
    "    valid_loss, valid_accuracy = utility.training.validate(\n",
    "        module=base_model,\n",
    "        valid_dl=validation_loader,\n",
    "        loss_function=cross_entropy,\n",
    "        device=device,\n",
    "    )\n",
    "\n",
    "    print(\n",
    "        f\"Epoch: {epoch:}\\nTrain Loss: {train_loss:.4f}, Valid Loss: {valid_loss:.4f}, Valid Accuracy: {valid_accuracy:.4f}\"\n",
    "    )\n",
    "\n",
    "    if early_stopper and early_stopper.early_stop(valid_loss):\n",
    "        last_epoch = epoch\n",
    "        print(\"Early stopping\")\n",
    "        break"
   ]
  },
  {
   "cell_type": "code",
   "execution_count": 14,
   "metadata": {},
   "outputs": [
    {
     "name": "stdout",
     "output_type": "stream",
     "text": [
      "Test Error: \n",
      " Accuracy: 64.2%, Avg loss: 1.128266 \n",
      "\n"
     ]
    }
   ],
   "source": [
    "test_loss, accuracy = utility.training.test(\n",
    "    base_model, test_dl=test_loader, loss_function=cross_entropy, device=device\n",
    ")\n",
    "print(f\"Test Error: \\n Accuracy: {accuracy:>0.1f}%, Avg loss: {test_loss:>8f} \\n\")"
   ]
  },
  {
   "cell_type": "code",
   "execution_count": 15,
   "metadata": {},
   "outputs": [],
   "source": [
    "metadata = PruningMetadata(\n",
    "    total_pruned=0,\n",
    "    pruning_step=0,\n",
    "    finetune_epochs=EPOCHS,\n",
    "    total_epochs=EPOCHS,\n",
    "    method=None,\n",
    "    early_stopping=False,\n",
    ")"
   ]
  },
  {
   "cell_type": "code",
   "execution_count": 16,
   "metadata": {},
   "outputs": [],
   "source": [
    "utility.save.save_model_with_metadata(\n",
    "    base_model,\n",
    "    path=f\"{MODELS_PATH}/{type(base_model).__name__}_cifar10\",\n",
    "    model_name=f\"{type(base_model).__name__}_cifar10\",\n",
    "    metadata=asdict(metadata),\n",
    ")"
   ]
  }
 ],
 "metadata": {
  "kernelspec": {
   "display_name": "ml-pruning",
   "language": "python",
   "name": "python3"
  },
  "language_info": {
   "codemirror_mode": {
    "name": "ipython",
    "version": 3
   },
   "file_extension": ".py",
   "mimetype": "text/x-python",
   "name": "python",
   "nbconvert_exporter": "python",
   "pygments_lexer": "ipython3",
   "version": "3.11.6"
  }
 },
 "nbformat": 4,
 "nbformat_minor": 2
}
