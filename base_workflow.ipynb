{
 "cells": [
  {
   "cell_type": "code",
   "execution_count": null,
   "metadata": {},
   "outputs": [],
   "source": [
    "import torch\n",
    "\n",
    "import torch.nn as nn\n",
    "import torch.optim as optim\n",
    "\n",
    "from utility.cifar_dataset import get_dataloaders\n",
    "import utility\n",
    "\n",
    "from constants import DATA_PATH, MODELS_PATH\n",
    "from LeNet import LeNet, BATCH_SIZE, EPOCHS\n",
    "from pruning_metadata import PruningMetadata\n",
    "\n",
    "from dataclasses import asdict"
   ]
  },
  {
   "cell_type": "markdown",
   "metadata": {},
   "source": [
    "### Load the data"
   ]
  },
  {
   "cell_type": "code",
   "execution_count": null,
   "metadata": {},
   "outputs": [],
   "source": [
    "train_loader, validation_loader, test_loader = get_dataloaders(\n",
    "    data_path=DATA_PATH, batch_size=BATCH_SIZE\n",
    ")"
   ]
  },
  {
   "cell_type": "markdown",
   "metadata": {},
   "source": [
    "## Training Phase"
   ]
  },
  {
   "cell_type": "code",
   "execution_count": null,
   "metadata": {},
   "outputs": [],
   "source": [
    "# Get cpu, gpu or mps device for training.\n",
    "device = torch.device(\"cuda\") if torch.cuda.is_available() else torch.device(\"cpu\")\n",
    "print(f\"Using {torch.cuda.get_device_name(torch.cuda.current_device())}\")"
   ]
  },
  {
   "cell_type": "code",
   "execution_count": null,
   "metadata": {},
   "outputs": [],
   "source": [
    "base_model = LeNet().to(device)\n",
    "\n",
    "# Define the loss function and optimizer\n",
    "cross_entropy = nn.CrossEntropyLoss()\n",
    "early_stopper = None\n",
    "optimizer = optim.AdamW(base_model.parameters())"
   ]
  },
  {
   "cell_type": "markdown",
   "metadata": {},
   "source": [
    "### Training loop"
   ]
  },
  {
   "cell_type": "code",
   "execution_count": null,
   "metadata": {},
   "outputs": [],
   "source": [
    "last_epoch = 0\n",
    "for epoch in range(EPOCHS):\n",
    "    train_loss = utility.training.train_epoch(\n",
    "        module=base_model,\n",
    "        train_dl=train_loader,\n",
    "        optimizer=optimizer,\n",
    "        loss_function=cross_entropy,\n",
    "        device=device,\n",
    "    )\n",
    "\n",
    "    valid_loss, valid_accuracy = utility.training.validate(\n",
    "        module=base_model,\n",
    "        valid_dl=validation_loader,\n",
    "        loss_function=cross_entropy,\n",
    "        device=device,\n",
    "    )\n",
    "\n",
    "    print(\n",
    "        f\"Epoch: {epoch:}\\nTrain Loss: {train_loss:.4f}, Valid Loss: {valid_loss:.4f}, Valid Accuracy: {valid_accuracy:.4f}\"\n",
    "    )\n",
    "\n",
    "    if early_stopper and early_stopper.early_stop(valid_loss):\n",
    "        last_epoch = epoch\n",
    "        print(\"Early stopping\")\n",
    "        break"
   ]
  },
  {
   "cell_type": "code",
   "execution_count": null,
   "metadata": {},
   "outputs": [],
   "source": [
    "test_loss, accuracy = utility.training.test(\n",
    "    base_model, test_dl=test_loader, loss_function=cross_entropy, device=device\n",
    ")\n",
    "print(f\"Test Error: \\n Accuracy: {accuracy:>0.1f}%, Avg loss: {test_loss:>8f} \\n\")"
   ]
  },
  {
   "cell_type": "code",
   "execution_count": null,
   "metadata": {},
   "outputs": [],
   "source": [
    "metadata = PruningMetadata(\n",
    "    total_pruned=0,\n",
    "    pruning_step=0,\n",
    "    finetune_epochs=EPOCHS,\n",
    "    total_epochs=EPOCHS,\n",
    "    method=None,\n",
    "    early_stopping=False,\n",
    ")"
   ]
  },
  {
   "cell_type": "code",
   "execution_count": null,
   "metadata": {},
   "outputs": [],
   "source": [
    "utility.save.save_model_with_metadata(\n",
    "    base_model,\n",
    "    path=f\"{MODELS_PATH}/{type(base_model).__name__}_cifar10\",\n",
    "    model_name=f\"{type(base_model).__name__}_cifar10\",\n",
    "    metadata=asdict(metadata),\n",
    ")"
   ]
  }
 ],
 "metadata": {
  "kernelspec": {
   "display_name": "ml-pruning",
   "language": "python",
   "name": "python3"
  },
  "language_info": {
   "codemirror_mode": {
    "name": "ipython",
    "version": 3
   },
   "file_extension": ".py",
   "mimetype": "text/x-python",
   "name": "python",
   "nbconvert_exporter": "python",
   "pygments_lexer": "ipython3",
   "version": "3.11.6"
  }
 },
 "nbformat": 4,
 "nbformat_minor": 2
}
