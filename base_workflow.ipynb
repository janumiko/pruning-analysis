{
 "cells": [
  {
   "cell_type": "code",
   "execution_count": 1,
   "metadata": {},
   "outputs": [],
   "source": [
    "import torch\n",
    "\n",
    "import torch.nn as nn\n",
    "import torch.optim as optim\n",
    "\n",
    "from torch.utils.data import DataLoader, random_split\n",
    "from torchvision import datasets, transforms\n",
    "\n",
    "import utility\n",
    "\n",
    "from constants import DATA_PATH, MODELS_PATH\n",
    "from LeNet import LeNet, BATCH_SIZE, LEARNING_RATE, EPOCHS, MOMENTUM\n",
    "from pruning_metadata import PruningMetadata\n",
    "\n",
    "from dataclasses import asdict"
   ]
  },
  {
   "cell_type": "markdown",
   "metadata": {},
   "source": [
    "### Load the data"
   ]
  },
  {
   "cell_type": "code",
   "execution_count": 2,
   "metadata": {},
   "outputs": [],
   "source": [
    "# load FashionMNIST data\n",
    "transform = transforms.Compose([transforms.ToTensor()])\n",
    "\n",
    "# split into validation and train datasets\n",
    "train_ds = datasets.FashionMNIST(\n",
    "    DATA_PATH, train=True, transform=transform, download=True\n",
    ")\n",
    "train_ds, valid_ds = random_split(train_ds, [0.8, 0.2])\n",
    "\n",
    "test_ds = datasets.FashionMNIST(\n",
    "    DATA_PATH, train=False, transform=transform, download=True\n",
    ")"
   ]
  },
  {
   "cell_type": "markdown",
   "metadata": {},
   "source": [
    "## Training Phase"
   ]
  },
  {
   "cell_type": "code",
   "execution_count": 3,
   "metadata": {},
   "outputs": [
    {
     "name": "stdout",
     "output_type": "stream",
     "text": [
      "Using NVIDIA GeForce GTX 1660 Ti\n"
     ]
    }
   ],
   "source": [
    "# Get cpu, gpu or mps device for training.\n",
    "device = torch.device(\"cuda\") if torch.cuda.is_available() else torch.device(\"cpu\")\n",
    "print(f\"Using {torch.cuda.get_device_name(torch.cuda.current_device())}\")"
   ]
  },
  {
   "cell_type": "code",
   "execution_count": 4,
   "metadata": {},
   "outputs": [],
   "source": [
    "base_model = LeNet().to(device)\n",
    "\n",
    "# Define the loss function and optimizer\n",
    "cross_entropy = nn.CrossEntropyLoss()\n",
    "early_stopper = utility.early_stopping.EarlyStopper(patience=3, min_delta=0)\n",
    "optimizer = optim.SGD(base_model.parameters(), lr=LEARNING_RATE, momentum=MOMENTUM)\n",
    "\n",
    "# create the data loaders\n",
    "train_loader = DataLoader(train_ds, batch_size=BATCH_SIZE, shuffle=True)\n",
    "validation_loader = DataLoader(valid_ds, batch_size=BATCH_SIZE)\n",
    "test_loader = DataLoader(test_ds, batch_size=BATCH_SIZE)"
   ]
  },
  {
   "cell_type": "markdown",
   "metadata": {},
   "source": [
    "### Training loop"
   ]
  },
  {
   "cell_type": "code",
   "execution_count": 5,
   "metadata": {},
   "outputs": [
    {
     "name": "stdout",
     "output_type": "stream",
     "text": [
      "Epoch: 0\n",
      "Train Loss: 0.7960, Valid Loss: 0.5905, Valid Accuracy: 0.7706\n",
      "Epoch: 1\n",
      "Train Loss: 0.4431, Valid Loss: 0.4164, Valid Accuracy: 0.8509\n",
      "Epoch: 2\n",
      "Train Loss: 0.3780, Valid Loss: 0.3921, Valid Accuracy: 0.8569\n",
      "Epoch: 3\n",
      "Train Loss: 0.3392, Valid Loss: 0.3322, Valid Accuracy: 0.8805\n",
      "Epoch: 4\n",
      "Train Loss: 0.3150, Valid Loss: 0.3353, Valid Accuracy: 0.8801\n",
      "Epoch: 5\n",
      "Train Loss: 0.2963, Valid Loss: 0.3178, Valid Accuracy: 0.8785\n",
      "Epoch: 6\n",
      "Train Loss: 0.2809, Valid Loss: 0.2980, Valid Accuracy: 0.8913\n",
      "Epoch: 7\n",
      "Train Loss: 0.2685, Valid Loss: 0.3011, Valid Accuracy: 0.8932\n",
      "Epoch: 8\n",
      "Train Loss: 0.2554, Valid Loss: 0.2769, Valid Accuracy: 0.9007\n",
      "Epoch: 9\n",
      "Train Loss: 0.2464, Valid Loss: 0.2784, Valid Accuracy: 0.9024\n",
      "Epoch: 10\n",
      "Train Loss: 0.2367, Valid Loss: 0.2783, Valid Accuracy: 0.8999\n",
      "Epoch: 11\n",
      "Train Loss: 0.2264, Valid Loss: 0.2837, Valid Accuracy: 0.8972\n",
      "Early stopping\n"
     ]
    }
   ],
   "source": [
    "last_epoch = 0\n",
    "for epoch in range(EPOCHS):\n",
    "    train_loss = utility.training.train_epoch(\n",
    "        module=base_model,\n",
    "        train_dl=train_loader,\n",
    "        optimizer=optimizer,\n",
    "        loss_function=cross_entropy,\n",
    "        device=device,\n",
    "    )\n",
    "\n",
    "    valid_loss, valid_accuracy = utility.training.validate(\n",
    "        module=base_model,\n",
    "        valid_dl=validation_loader,\n",
    "        loss_function=cross_entropy,\n",
    "        device=device,\n",
    "    )\n",
    "\n",
    "    print(\n",
    "        f\"Epoch: {epoch:}\\nTrain Loss: {train_loss:.4f}, Valid Loss: {valid_loss:.4f}, Valid Accuracy: {valid_accuracy:.4f}\"\n",
    "    )\n",
    "\n",
    "    if early_stopper.early_stop(valid_loss):\n",
    "        last_epoch = epoch\n",
    "        print(\"Early stopping\")\n",
    "        break"
   ]
  },
  {
   "cell_type": "code",
   "execution_count": 6,
   "metadata": {},
   "outputs": [
    {
     "name": "stdout",
     "output_type": "stream",
     "text": [
      "Test Error: \n",
      " Accuracy: 89.0%, Avg loss: 0.302961 \n",
      "\n"
     ]
    }
   ],
   "source": [
    "test_loss, accuracy = utility.training.test(\n",
    "    base_model, test_dl=test_loader, loss_function=cross_entropy, device=device\n",
    ")\n",
    "print(f\"Test Error: \\n Accuracy: {accuracy:>0.1f}%, Avg loss: {test_loss:>8f} \\n\")"
   ]
  },
  {
   "cell_type": "code",
   "execution_count": 7,
   "metadata": {},
   "outputs": [],
   "source": [
    "metadata = PruningMetadata(\n",
    "    total_pruned=0,\n",
    "    pruning_step=0,\n",
    "    finetune_epochs=last_epoch + 1,\n",
    "    method=None,\n",
    "    early_stopping=True,\n",
    ")"
   ]
  },
  {
   "cell_type": "code",
   "execution_count": 9,
   "metadata": {},
   "outputs": [],
   "source": [
    "utility.save.save_model_with_metadata(\n",
    "    base_model,\n",
    "    path=f\"{MODELS_PATH}/{type(base_model).__name__}_fmnist\",\n",
    "    model_name=f\"{type(base_model).__name__}_fmnist\",\n",
    "    metadata=asdict(metadata),\n",
    ")"
   ]
  }
 ],
 "metadata": {
  "kernelspec": {
   "display_name": "ml-pruning",
   "language": "python",
   "name": "python3"
  },
  "language_info": {
   "codemirror_mode": {
    "name": "ipython",
    "version": 3
   },
   "file_extension": ".py",
   "mimetype": "text/x-python",
   "name": "python",
   "nbconvert_exporter": "python",
   "pygments_lexer": "ipython3",
   "version": "3.11.6"
  }
 },
 "nbformat": 4,
 "nbformat_minor": 2
}
