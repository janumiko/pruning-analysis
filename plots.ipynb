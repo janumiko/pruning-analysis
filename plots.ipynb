{
 "cells": [
  {
   "cell_type": "code",
   "execution_count": 111,
   "metadata": {},
   "outputs": [],
   "source": [
    "import wandb\n",
    "import matplotlib.pyplot as plt\n",
    "import pandas as pd\n",
    "from collections import defaultdict\n",
    "import numpy as np\n",
    "import pathlib\n",
    "from wandb.apis.public import Run as apiRun\n",
    "import json"
   ]
  },
  {
   "cell_type": "code",
   "execution_count": 112,
   "metadata": {},
   "outputs": [],
   "source": [
    "api = wandb.Api()\n",
    "\n",
    "entity = \"KowalskiTeam\"\n",
    "project = \"Pruning\"\n",
    "dataset = \"cifar100\"\n",
    "job_type = \"General_16-04-2024\"\n",
    "checkpoints = [0.88, 0.92, 0.96]\n",
    "path = f\"{entity}/{project}\""
   ]
  },
  {
   "cell_type": "code",
   "execution_count": 113,
   "metadata": {},
   "outputs": [],
   "source": [
    "runs = api.runs(\n",
    "    path,\n",
    "    filters={\n",
    "        \"config.dataset.name\": dataset,\n",
    "        \"state\": \"finished\",\n",
    "        \"jobType\": job_type,\n",
    "        \"display_name\": \"pruning_results\",\n",
    "    },\n",
    ")"
   ]
  },
  {
   "cell_type": "code",
   "execution_count": 114,
   "metadata": {},
   "outputs": [],
   "source": [
    "# download artifacts\n",
    "for run in runs:\n",
    "    run: apiRun\n",
    "    group = run.group\n",
    "\n",
    "    if pathlib.Path(f\"artifacts/{group}_pruning_results:v0\").exists():\n",
    "        continue\n",
    "\n",
    "    # TODO: async download\n",
    "    artifact = api.artifact(f\"{run.entity}/{run.project}/{group}_pruning_results:v0\")\n",
    "    artifact.download()\n"
   ]
  },
  {
   "cell_type": "code",
   "execution_count": 117,
   "metadata": {},
   "outputs": [],
   "source": [
    "dataframes = defaultdict(list)\n",
    "aggregation_columns = [\"top1_accuracy\", \"top5_accuracy\"]\n",
    "\n",
    "for run in runs:\n",
    "    run: apiRun\n",
    "    group = run.group\n",
    "    scheluder_name = run.config[\"pruning\"][\"scheduler\"][\"name\"]\n",
    "\n",
    "    with open(f\"artifacts/{group}_pruning_results:v0/pruning_results.table.json\") as f:\n",
    "        json_dict = json.load(f)\n",
    "\n",
    "    df = pd.DataFrame(json_dict[\"data\"], columns=json_dict[\"columns\"])\n",
    "    agg_df = df.drop([\"repeat\", \"top5_accuracy\"], axis=1).groupby([\"pruned_precent\"]).agg({\"top1_accuracy\": [\"mean\", \"std\"]})\n",
    "    agg_df = agg_df.round(4)\n",
    "    agg_df.columns = agg_df.columns.map('_'.join)\n",
    "    agg_df = agg_df.reset_index()\n",
    "    config_series = pd.json_normalize(run.config).squeeze()\n",
    "\n",
    "    for key, value in config_series.items():\n",
    "        agg_df[key] = value\n",
    "\n",
    "    agg_df[\"group\"] = group\n",
    "\n",
    "    dataframes[scheluder_name].append(agg_df)\n",
    "\n",
    "for name in dataframes:\n",
    "    dataframes[name] = pd.concat(dataframes[name])\n",
    "    # save to csv\n",
    "    dataframes[name].to_csv(f\"csvs/pruning_results_{dataset}_{name}.csv\", index=False)"
   ]
  }
 ],
 "metadata": {
  "kernelspec": {
   "display_name": "vit",
   "language": "python",
   "name": "python3"
  },
  "language_info": {
   "codemirror_mode": {
    "name": "ipython",
    "version": 3
   },
   "file_extension": ".py",
   "mimetype": "text/x-python",
   "name": "python",
   "nbconvert_exporter": "python",
   "pygments_lexer": "ipython3",
   "version": "3.10.13"
  }
 },
 "nbformat": 4,
 "nbformat_minor": 2
}
