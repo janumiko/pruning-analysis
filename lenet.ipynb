{
 "cells": [
  {
   "cell_type": "code",
   "execution_count": 1,
   "metadata": {},
   "outputs": [],
   "source": [
    "import torch.nn.utils.prune as prune\n",
    "\n",
    "import torch\n",
    "\n",
    "import torch.nn as nn\n",
    "import torch.optim as optim\n",
    "import torch.nn.functional as F\n",
    "\n",
    "from torch.utils.data import DataLoader, random_split\n",
    "from torchvision import datasets, transforms\n",
    "from typing import Callable, Tuple\n",
    "from pathlib import Path"
   ]
  },
  {
   "cell_type": "markdown",
   "metadata": {},
   "source": [
    "### Calculate the mean and std of the training set for normalization"
   ]
  },
  {
   "cell_type": "code",
   "execution_count": 2,
   "metadata": {},
   "outputs": [
    {
     "name": "stdout",
     "output_type": "stream",
     "text": [
      "Mean: tensor(0.1307)\n",
      "Standard Deviation: tensor(0.3081)\n"
     ]
    }
   ],
   "source": [
    "# Define a custom transformation to collect statistics\n",
    "to_tensor = transforms.Compose([transforms.ToTensor()])\n",
    "\n",
    "# Load the MNIST training dataset without normalization\n",
    "dataset = datasets.MNIST(root=\"../data\", train=True, download=True, transform=to_tensor)\n",
    "\n",
    "# Initialize variables to accumulate sum and squared sum\n",
    "sum_pixels = 0\n",
    "sum_pixels_squared = 0\n",
    "\n",
    "# Count the number of samples\n",
    "num_samples = len(dataset)\n",
    "\n",
    "# Iterate through the dataset to collect statistics\n",
    "for data, _ in dataset:\n",
    "    # Flatten the data tensor\n",
    "    data = data.view(-1)\n",
    "\n",
    "    # Accumulate the sum of pixel values and squared sum\n",
    "    sum_pixels += data.sum()\n",
    "    sum_pixels_squared += (data**2).sum()\n",
    "\n",
    "# Calculate the mean and standard deviation\n",
    "mean = sum_pixels / (num_samples * 28 * 28)  # 28x28 is the image size\n",
    "std_dev = ((sum_pixels_squared / (num_samples * 28 * 28)) - mean**2) ** 0.5\n",
    "\n",
    "print(\"Mean:\", mean)\n",
    "print(\"Standard Deviation:\", std_dev)"
   ]
  },
  {
   "cell_type": "markdown",
   "metadata": {},
   "source": [
    "### Load the data"
   ]
  },
  {
   "cell_type": "code",
   "execution_count": 3,
   "metadata": {},
   "outputs": [],
   "source": [
    "# load MNIST data\n",
    "transform = transforms.Compose(\n",
    "    [transforms.ToTensor(), transforms.Normalize(mean, std_dev)]\n",
    ")\n",
    "\n",
    "# split into validation and train datasets\n",
    "train_ds = datasets.MNIST(\"../data\", train=True, transform=transform)\n",
    "train_ds, valid_ds = random_split(train_ds, [50000, 10000])\n",
    "\n",
    "test_ds = datasets.MNIST(\"../data\", train=False, transform=transform)"
   ]
  },
  {
   "cell_type": "markdown",
   "metadata": {},
   "source": [
    "## Define the model architecture"
   ]
  },
  {
   "cell_type": "code",
   "execution_count": 4,
   "metadata": {},
   "outputs": [],
   "source": [
    "# Define a simple CNN model\n",
    "class Model(nn.Module):\n",
    "    def __init__(self):\n",
    "        super().__init__()\n",
    "        self.conv1 = nn.Conv2d(\n",
    "            1, 6, kernel_size=5, stride=1, padding=2\n",
    "        )  # 28*28->32*32-->28*28\n",
    "        self.pool1 = nn.AvgPool2d(kernel_size=2, stride=2)\n",
    "        self.conv2 = nn.Conv2d(6, 16, kernel_size=5, stride=1)\n",
    "        self.pool2 = nn.AvgPool2d(kernel_size=2, stride=2)\n",
    "        self.flatten1 = nn.Flatten()\n",
    "        self.fc1 = nn.Linear(16 * 5 * 5, 120)  # 5x5 image dimension\n",
    "        self.fc2 = nn.Linear(120, 84)\n",
    "        self.fc3 = nn.Linear(84, 10)\n",
    "\n",
    "    def forward(self, x):\n",
    "        x = F.relu(self.conv1(x))\n",
    "        x = self.pool1(x)\n",
    "        x = F.relu(self.conv2(x))\n",
    "        x = self.pool2(x)\n",
    "        x = self.flatten1(x)\n",
    "        x = F.relu(self.fc1(x))\n",
    "        x = F.relu(self.fc2(x))\n",
    "        x = self.fc3(x)\n",
    "        return x"
   ]
  },
  {
   "cell_type": "markdown",
   "metadata": {},
   "source": [
    "### Define utilities for training and testing"
   ]
  },
  {
   "cell_type": "code",
   "execution_count": 5,
   "metadata": {},
   "outputs": [],
   "source": [
    "class EarlyStopper:\n",
    "    def __init__(self, patience: int = 1, min_delta: int = 0):\n",
    "        self.patience = patience\n",
    "        self.min_delta = min_delta\n",
    "        self.counter = 0\n",
    "        self.min_validation_loss = float(\"inf\")\n",
    "\n",
    "    def early_stop(self, validation_loss: float) -> bool:\n",
    "        if validation_loss < self.min_validation_loss:\n",
    "            self.min_validation_loss = validation_loss\n",
    "            self.counter = 0\n",
    "        elif validation_loss > (self.min_validation_loss + self.min_delta):\n",
    "            self.counter += 1\n",
    "            if self.counter >= self.patience:\n",
    "                return True\n",
    "        return False"
   ]
  },
  {
   "cell_type": "code",
   "execution_count": 6,
   "metadata": {},
   "outputs": [],
   "source": [
    "# Define a function to train the model\n",
    "def fit(\n",
    "    model: nn.Module,\n",
    "    train_dl,\n",
    "    valid_dl,\n",
    "    optimizer: optim.Optimizer,\n",
    "    loss_function: Callable,\n",
    "    epochs: int,\n",
    "    early_stopper: EarlyStopper | None = None,\n",
    "    device: torch.device = torch.device(\"cpu\"),\n",
    ") -> Tuple[float, float]:\n",
    "    valid_loss = 0\n",
    "    valid_accuracy = 0\n",
    "\n",
    "    for epoch in range(epochs):\n",
    "        model.train()\n",
    "        for X, y in train_dl:\n",
    "            X, y = X.to(device), y.to(device)\n",
    "\n",
    "            # Compute prediction error\n",
    "            pred = model(X)\n",
    "            train_loss = loss_function(pred, y)\n",
    "\n",
    "            # Backpropagation\n",
    "            train_loss.backward()\n",
    "            optimizer.step()\n",
    "            optimizer.zero_grad()\n",
    "\n",
    "        model.eval()\n",
    "        valid_loss = 0\n",
    "        valid_accuracy = 0\n",
    "        with torch.no_grad():\n",
    "            for X, y in valid_dl:\n",
    "                X, y = X.to(device), y.to(device)\n",
    "\n",
    "                # Compute prediction error\n",
    "                pred = model(X)\n",
    "                valid_loss += loss_function(pred, y).item()\n",
    "\n",
    "                # Compute accuracy\n",
    "                valid_accuracy += (pred.argmax(1) == y).float().mean()\n",
    "\n",
    "        valid_loss /= len(valid_dl)\n",
    "        valid_accuracy /= len(valid_dl)\n",
    "\n",
    "        print(\n",
    "            f\"Epoch #{epoch + 1}:\\t validation loss: {valid_loss:.4f}\\t validation accuracy: {valid_accuracy:.4f}\"\n",
    "        )\n",
    "\n",
    "        if early_stopper is not None and early_stopper.early_stop(valid_loss):\n",
    "            print(\"Early stopping\")\n",
    "            return (valid_loss, valid_accuracy)\n",
    "\n",
    "    return (valid_loss, valid_accuracy)"
   ]
  },
  {
   "cell_type": "code",
   "execution_count": 7,
   "metadata": {},
   "outputs": [],
   "source": [
    "# Define a function to test the model\n",
    "def test(\n",
    "    model: nn.Module,\n",
    "    test_dl,\n",
    "    loss_function: Callable,\n",
    "    device: torch.device = torch.device(\"cpu\"),\n",
    ") -> Tuple[float, float]:\n",
    "    size = len(test_dl.dataset)\n",
    "    num_batches = len(test_dl)\n",
    "    model.eval()\n",
    "\n",
    "    test_loss, correct = 0, 0\n",
    "    with torch.no_grad():\n",
    "        for X, y in test_dl:\n",
    "            X, y = X.to(device), y.to(device)\n",
    "            pred = model(X)\n",
    "            test_loss += loss_function(pred, y).item()\n",
    "            correct += (pred.argmax(1) == y).type(torch.float).sum().item()\n",
    "\n",
    "    test_loss /= num_batches\n",
    "    accuracy = (correct / size) * 100\n",
    "\n",
    "    return (test_loss, accuracy)"
   ]
  },
  {
   "cell_type": "markdown",
   "metadata": {},
   "source": [
    "## Training Phase"
   ]
  },
  {
   "cell_type": "code",
   "execution_count": 8,
   "metadata": {},
   "outputs": [],
   "source": [
    "# define the constants\n",
    "BATCH_SIZE: int = 32\n",
    "LEARNING_RATE: float = 0.01\n",
    "EPOCHS: int = 10\n",
    "MOMENTUM: float = 0.9"
   ]
  },
  {
   "cell_type": "code",
   "execution_count": 9,
   "metadata": {},
   "outputs": [
    {
     "name": "stdout",
     "output_type": "stream",
     "text": [
      "Using NVIDIA GeForce GTX 1660 Ti\n"
     ]
    }
   ],
   "source": [
    "# Get cpu, gpu or mps device for training.\n",
    "device = torch.device(\"cuda\") if torch.cuda.is_available() else torch.device(\"cpu\")\n",
    "print(f\"Using {torch.cuda.get_device_name(torch.cuda.current_device())}\")"
   ]
  },
  {
   "cell_type": "code",
   "execution_count": 10,
   "metadata": {},
   "outputs": [],
   "source": [
    "base_model = Model().to(device)\n",
    "\n",
    "# Define the loss function and optimizer\n",
    "loss_fn = nn.CrossEntropyLoss()\n",
    "early_stopper = EarlyStopper(patience=3, min_delta=0)\n",
    "optimizer = optim.SGD(base_model.parameters(), lr=LEARNING_RATE, momentum=MOMENTUM)\n",
    "\n",
    "# create the data loaders\n",
    "train_loader = DataLoader(train_ds, batch_size=BATCH_SIZE, shuffle=True)\n",
    "validation_loader = DataLoader(valid_ds, batch_size=BATCH_SIZE)\n",
    "test_loader = DataLoader(test_ds, batch_size=BATCH_SIZE)"
   ]
  },
  {
   "cell_type": "markdown",
   "metadata": {},
   "source": [
    "### Training loop"
   ]
  },
  {
   "cell_type": "code",
   "execution_count": 11,
   "metadata": {},
   "outputs": [
    {
     "name": "stderr",
     "output_type": "stream",
     "text": [
      "/home/bubuss/miniforge3/envs/ml/lib/python3.11/site-packages/torch/nn/modules/conv.py:456: UserWarning: Applied workaround for CuDNN issue, install nvrtc.so (Triggered internally at /opt/conda/conda-bld/pytorch_1699449183005/work/aten/src/ATen/native/cudnn/Conv_v8.cpp:80.)\n",
      "  return F.conv2d(input, weight, bias, self.stride,\n"
     ]
    },
    {
     "name": "stdout",
     "output_type": "stream",
     "text": [
      "Epoch #1:\t validation loss: 0.0870\t validation accuracy: 0.9722\n",
      "Epoch #2:\t validation loss: 0.0657\t validation accuracy: 0.9790\n",
      "Epoch #3:\t validation loss: 0.0615\t validation accuracy: 0.9801\n",
      "Epoch #4:\t validation loss: 0.0692\t validation accuracy: 0.9810\n",
      "Epoch #5:\t validation loss: 0.0539\t validation accuracy: 0.9843\n",
      "Epoch #6:\t validation loss: 0.0484\t validation accuracy: 0.9866\n",
      "Epoch #7:\t validation loss: 0.0443\t validation accuracy: 0.9861\n",
      "Epoch #8:\t validation loss: 0.0399\t validation accuracy: 0.9876\n",
      "Epoch #9:\t validation loss: 0.0470\t validation accuracy: 0.9876\n",
      "Epoch #10:\t validation loss: 0.0418\t validation accuracy: 0.9881\n"
     ]
    }
   ],
   "source": [
    "valid_loss, valid_accuracy = fit(\n",
    "    base_model,\n",
    "    train_dl=train_loader,\n",
    "    valid_dl=validation_loader,\n",
    "    optimizer=optimizer,\n",
    "    loss_function=loss_fn,\n",
    "    epochs=EPOCHS,\n",
    "    device=device,\n",
    ")"
   ]
  },
  {
   "cell_type": "code",
   "execution_count": 12,
   "metadata": {},
   "outputs": [
    {
     "name": "stdout",
     "output_type": "stream",
     "text": [
      "Test Error: \n",
      " Accuracy: 98.8%, Avg loss: 0.040892 \n",
      "\n"
     ]
    }
   ],
   "source": [
    "test_loss, accuracy = test(\n",
    "    base_model, test_dl=test_loader, loss_function=loss_fn, device=device\n",
    ")\n",
    "print(f\"Test Error: \\n Accuracy: {accuracy:>0.1f}%, Avg loss: {test_loss:>8f} \\n\")"
   ]
  },
  {
   "cell_type": "markdown",
   "metadata": {},
   "source": [
    "Save the model"
   ]
  },
  {
   "cell_type": "code",
   "execution_count": 13,
   "metadata": {},
   "outputs": [],
   "source": [
    "torch.save(base_model.state_dict(), \"models/lenet_mnist.pth\")"
   ]
  },
  {
   "cell_type": "markdown",
   "metadata": {},
   "source": [
    "## Pruning Phase"
   ]
  },
  {
   "cell_type": "markdown",
   "metadata": {},
   "source": [
    "### One shot pruning"
   ]
  },
  {
   "cell_type": "code",
   "execution_count": 14,
   "metadata": {},
   "outputs": [],
   "source": [
    "FINE_TUNING_EPOCHS = 5"
   ]
  },
  {
   "cell_type": "code",
   "execution_count": 15,
   "metadata": {},
   "outputs": [],
   "source": [
    "def get_parameters_to_prune(model: nn.Module) -> list[nn.Parameter]:\n",
    "    return [\n",
    "        (module, \"weight\")\n",
    "        for module in model.modules()\n",
    "        if isinstance(module, nn.Conv2d | nn.Linear)\n",
    "    ]"
   ]
  },
  {
   "cell_type": "code",
   "execution_count": 16,
   "metadata": {},
   "outputs": [],
   "source": [
    "PRUNING_VALUES = [0.2, 0.4, 0.6, 0.8, 0.9, 0.95]"
   ]
  },
  {
   "cell_type": "code",
   "execution_count": 17,
   "metadata": {},
   "outputs": [
    {
     "name": "stdout",
     "output_type": "stream",
     "text": [
      "Pruning rate: 0.2\n",
      "Epoch #1:\t validation loss: 0.0417\t validation accuracy: 0.9878\n",
      "Epoch #2:\t validation loss: 0.0417\t validation accuracy: 0.9878\n",
      "Pruning rate: 0.4\n",
      "Epoch #1:\t validation loss: 0.0414\t validation accuracy: 0.9878\n",
      "Epoch #2:\t validation loss: 0.0414\t validation accuracy: 0.9878\n",
      "Pruning rate: 0.6\n",
      "Epoch #1:\t validation loss: 0.0421\t validation accuracy: 0.9864\n",
      "Epoch #2:\t validation loss: 0.0421\t validation accuracy: 0.9864\n",
      "Pruning rate: 0.8\n",
      "Epoch #1:\t validation loss: 0.0562\t validation accuracy: 0.9842\n",
      "Epoch #2:\t validation loss: 0.0562\t validation accuracy: 0.9842\n",
      "Pruning rate: 0.9\n",
      "Epoch #1:\t validation loss: 0.2220\t validation accuracy: 0.9493\n",
      "Epoch #2:\t validation loss: 0.2220\t validation accuracy: 0.9493\n",
      "Pruning rate: 0.95\n",
      "Epoch #1:\t validation loss: 1.0751\t validation accuracy: 0.7079\n",
      "Epoch #2:\t validation loss: 1.0751\t validation accuracy: 0.7079\n"
     ]
    }
   ],
   "source": [
    "results = []\n",
    "for pruning_rate in PRUNING_VALUES:\n",
    "    # load the model\n",
    "    temp_model = Model().to(device)\n",
    "    temp_model.load_state_dict(torch.load(\"models/lenet_mnist.pth\"))\n",
    "    model_parameters = get_parameters_to_prune(temp_model)\n",
    "\n",
    "    # prune the model\n",
    "    prune.global_unstructured(\n",
    "        parameters=model_parameters,\n",
    "        pruning_method=prune.L1Unstructured,\n",
    "        amount=pruning_rate,\n",
    "    )\n",
    "\n",
    "    print(f\"Pruning rate: {pruning_rate}\")\n",
    "\n",
    "    val_loss, val_accuracy = fit(\n",
    "        model=temp_model,\n",
    "        train_dl=train_loader,\n",
    "        valid_dl=validation_loader,\n",
    "        optimizer=optimizer,\n",
    "        loss_function=loss_fn,\n",
    "        epochs=2,\n",
    "        device=device,\n",
    "    )\n",
    "\n",
    "    results.append((pruning_rate, val_loss, val_accuracy))\n",
    "\n",
    "    for module, name in model_parameters:\n",
    "        prune.remove(module, name)\n",
    "\n",
    "    torch.save(temp_model.state_dict(), f\"models/lenet_mnist_pruned_{pruning_rate}.pth\")"
   ]
  },
  {
   "cell_type": "code",
   "execution_count": 18,
   "metadata": {},
   "outputs": [
    {
     "name": "stdout",
     "output_type": "stream",
     "text": [
      "Pruning Rate\t Validation Loss\t Validation Accuracy\n",
      "0.20\t\t 0.0417\t\t 0.9878\n",
      "0.40\t\t 0.0414\t\t 0.9878\n",
      "0.60\t\t 0.0421\t\t 0.9864\n",
      "0.80\t\t 0.0562\t\t 0.9842\n",
      "0.90\t\t 0.2220\t\t 0.9493\n",
      "0.95\t\t 1.0751\t\t 0.7079\n"
     ]
    }
   ],
   "source": [
    "print(\"Pruning Rate\\t Validation Loss\\t Validation Accuracy\")\n",
    "for result in results:\n",
    "    print(f\"{result[0]:.2f}\\t\\t {result[1]:.4f}\\t\\t {result[2]:.4f}\")"
   ]
  },
  {
   "cell_type": "markdown",
   "metadata": {},
   "source": [
    "### Iterative pruning"
   ]
  },
  {
   "cell_type": "code",
   "execution_count": 19,
   "metadata": {},
   "outputs": [
    {
     "data": {
      "text/plain": [
       "<All keys matched successfully>"
      ]
     },
     "execution_count": 19,
     "metadata": {},
     "output_type": "execute_result"
    }
   ],
   "source": [
    "iterative_model = Model().to(device)\n",
    "iterative_model.load_state_dict(torch.load(\"models/lenet_mnist.pth\"))"
   ]
  },
  {
   "cell_type": "code",
   "execution_count": 23,
   "metadata": {},
   "outputs": [
    {
     "name": "stdout",
     "output_type": "stream",
     "text": [
      "Epoch #1:\t validation loss: 0.0415\t validation accuracy: 0.9879\n",
      "Iteration #1:\t validation loss: 0.0415\t validation accuracy: 0.9879\n",
      "Epoch #1:\t validation loss: 0.0414\t validation accuracy: 0.9879\n",
      "Iteration #2:\t validation loss: 0.0414\t validation accuracy: 0.9879\n",
      "Epoch #1:\t validation loss: 0.0416\t validation accuracy: 0.9877\n",
      "Iteration #3:\t validation loss: 0.0416\t validation accuracy: 0.9877\n",
      "Epoch #1:\t validation loss: 0.0416\t validation accuracy: 0.9877\n",
      "Iteration #4:\t validation loss: 0.0416\t validation accuracy: 0.9877\n",
      "Epoch #1:\t validation loss: 0.0418\t validation accuracy: 0.9878\n",
      "Iteration #5:\t validation loss: 0.0418\t validation accuracy: 0.9878\n",
      "Epoch #1:\t validation loss: 0.0417\t validation accuracy: 0.9876\n",
      "Iteration #6:\t validation loss: 0.0417\t validation accuracy: 0.9876\n",
      "Epoch #1:\t validation loss: 0.0417\t validation accuracy: 0.9877\n",
      "Iteration #7:\t validation loss: 0.0417\t validation accuracy: 0.9877\n",
      "Epoch #1:\t validation loss: 0.0414\t validation accuracy: 0.9878\n",
      "Iteration #8:\t validation loss: 0.0414\t validation accuracy: 0.9878\n",
      "Epoch #1:\t validation loss: 0.0416\t validation accuracy: 0.9878\n",
      "Iteration #9:\t validation loss: 0.0416\t validation accuracy: 0.9878\n",
      "Epoch #1:\t validation loss: 0.0414\t validation accuracy: 0.9877\n",
      "Iteration #10:\t validation loss: 0.0414\t validation accuracy: 0.9877\n",
      "Epoch #1:\t validation loss: 0.0414\t validation accuracy: 0.9879\n",
      "Iteration #11:\t validation loss: 0.0414\t validation accuracy: 0.9879\n",
      "Epoch #1:\t validation loss: 0.0413\t validation accuracy: 0.9880\n",
      "Iteration #12:\t validation loss: 0.0413\t validation accuracy: 0.9880\n",
      "Epoch #1:\t validation loss: 0.0411\t validation accuracy: 0.9879\n",
      "Iteration #13:\t validation loss: 0.0411\t validation accuracy: 0.9879\n",
      "Epoch #1:\t validation loss: 0.0411\t validation accuracy: 0.9879\n",
      "Iteration #14:\t validation loss: 0.0411\t validation accuracy: 0.9879\n",
      "Epoch #1:\t validation loss: 0.0412\t validation accuracy: 0.9878\n",
      "Iteration #15:\t validation loss: 0.0412\t validation accuracy: 0.9878\n",
      "Epoch #1:\t validation loss: 0.0411\t validation accuracy: 0.9878\n",
      "Iteration #16:\t validation loss: 0.0411\t validation accuracy: 0.9878\n",
      "Epoch #1:\t validation loss: 0.0413\t validation accuracy: 0.9879\n",
      "Iteration #17:\t validation loss: 0.0413\t validation accuracy: 0.9879\n",
      "Epoch #1:\t validation loss: 0.0411\t validation accuracy: 0.9878\n",
      "Iteration #18:\t validation loss: 0.0411\t validation accuracy: 0.9878\n",
      "Epoch #1:\t validation loss: 0.0413\t validation accuracy: 0.9877\n",
      "Iteration #19:\t validation loss: 0.0413\t validation accuracy: 0.9877\n",
      "Epoch #1:\t validation loss: 0.0412\t validation accuracy: 0.9878\n",
      "Iteration #20:\t validation loss: 0.0412\t validation accuracy: 0.9878\n",
      "Epoch #1:\t validation loss: 0.0410\t validation accuracy: 0.9880\n",
      "Iteration #21:\t validation loss: 0.0410\t validation accuracy: 0.9880\n",
      "Epoch #1:\t validation loss: 0.0411\t validation accuracy: 0.9881\n",
      "Iteration #22:\t validation loss: 0.0411\t validation accuracy: 0.9881\n",
      "Epoch #1:\t validation loss: 0.0413\t validation accuracy: 0.9881\n",
      "Iteration #23:\t validation loss: 0.0413\t validation accuracy: 0.9881\n",
      "Epoch #1:\t validation loss: 0.0413\t validation accuracy: 0.9881\n",
      "Iteration #24:\t validation loss: 0.0413\t validation accuracy: 0.9881\n",
      "Epoch #1:\t validation loss: 0.0413\t validation accuracy: 0.9878\n",
      "Iteration #25:\t validation loss: 0.0413\t validation accuracy: 0.9878\n",
      "Epoch #1:\t validation loss: 0.0412\t validation accuracy: 0.9879\n",
      "Iteration #26:\t validation loss: 0.0412\t validation accuracy: 0.9879\n",
      "Epoch #1:\t validation loss: 0.0412\t validation accuracy: 0.9878\n",
      "Iteration #27:\t validation loss: 0.0412\t validation accuracy: 0.9878\n",
      "Epoch #1:\t validation loss: 0.0411\t validation accuracy: 0.9879\n",
      "Iteration #28:\t validation loss: 0.0411\t validation accuracy: 0.9879\n",
      "Epoch #1:\t validation loss: 0.0415\t validation accuracy: 0.9878\n",
      "Iteration #29:\t validation loss: 0.0415\t validation accuracy: 0.9878\n",
      "Epoch #1:\t validation loss: 0.0415\t validation accuracy: 0.9878\n",
      "Iteration #30:\t validation loss: 0.0415\t validation accuracy: 0.9878\n"
     ]
    }
   ],
   "source": [
    "iterative_model_parameters = get_parameters_to_prune(iterative_model)\n",
    "\n",
    "RANGE = 30\n",
    "for iteration in range(RANGE):\n",
    "    prune.global_unstructured(\n",
    "        parameters=iterative_model_parameters,\n",
    "        pruning_method=prune.L1Unstructured,\n",
    "        amount=0.01,\n",
    "    )\n",
    "\n",
    "    val_loss, val_accuracy = fit(\n",
    "        model=iterative_model,\n",
    "        train_dl=train_loader,\n",
    "        valid_dl=validation_loader,\n",
    "        optimizer=optimizer,\n",
    "        loss_function=loss_fn,\n",
    "        epochs=1,\n",
    "        device=device,\n",
    "    )\n",
    "\n",
    "    print(\n",
    "        f\"Iteration #{iteration + 1}:\\t validation loss: {val_loss:.4f}\\t validation accuracy: {val_accuracy:.4f}\"\n",
    "    )"
   ]
  },
  {
   "cell_type": "code",
   "execution_count": 25,
   "metadata": {},
   "outputs": [],
   "source": [
    "for module, name in iterative_model_parameters:\n",
    "    prune.remove(module, name)\n",
    "\n",
    "torch.save(\n",
    "    iterative_model.state_dict(),\n",
    "    f\"models/lenet_mnist_pruned_iterative_pruned_0.{RANGE}.pth\",\n",
    ")"
   ]
  },
  {
   "cell_type": "code",
   "execution_count": 26,
   "metadata": {},
   "outputs": [
    {
     "name": "stdout",
     "output_type": "stream",
     "text": [
      "Loaded lenet_mnist_pruned_0.2\n",
      "Loaded lenet_mnist_pruned_0.9\n",
      "Loaded lenet_mnist_pruned_0.4\n",
      "Loaded lenet_mnist_pruned_0.6\n",
      "Loaded lenet_mnist_pruned_0.8\n",
      "Loaded lenet_mnist\n",
      "Loaded lenet_mnist_pruned_0.95\n",
      "Loaded lenet_mnist_pruned_iterative_pruned_0.30\n"
     ]
    }
   ],
   "source": [
    "models = []\n",
    "for file in Path(\"models\").glob(\"*.pth\"):\n",
    "    model = Model().to(device)\n",
    "    temp = torch.load(file)\n",
    "    model.load_state_dict(temp)\n",
    "    print(f\"Loaded {file.stem}\")\n",
    "    models.append((file.stem, model))"
   ]
  },
  {
   "cell_type": "code",
   "execution_count": 29,
   "metadata": {},
   "outputs": [
    {
     "name": "stdout",
     "output_type": "stream",
     "text": [
      "Model lenet_mnist\n",
      "Test Error: \n",
      " Accuracy: 98.8%, Avg loss: 0.040892 \n",
      "\n",
      "Model lenet_mnist_pruned_0.2\n",
      "Test Error: \n",
      " Accuracy: 98.8%, Avg loss: 0.040704 \n",
      "\n",
      "Model lenet_mnist_pruned_0.4\n",
      "Test Error: \n",
      " Accuracy: 98.8%, Avg loss: 0.041048 \n",
      "\n",
      "Model lenet_mnist_pruned_0.6\n",
      "Test Error: \n",
      " Accuracy: 98.9%, Avg loss: 0.039547 \n",
      "\n",
      "Model lenet_mnist_pruned_0.8\n",
      "Test Error: \n",
      " Accuracy: 98.4%, Avg loss: 0.051847 \n",
      "\n",
      "Model lenet_mnist_pruned_0.9\n",
      "Test Error: \n",
      " Accuracy: 94.7%, Avg loss: 0.223231 \n",
      "\n",
      "Model lenet_mnist_pruned_0.95\n",
      "Test Error: \n",
      " Accuracy: 70.6%, Avg loss: 1.055350 \n",
      "\n",
      "Model lenet_mnist_pruned_iterative_pruned_0.30\n",
      "Test Error: \n",
      " Accuracy: 98.8%, Avg loss: 0.041454 \n",
      "\n"
     ]
    }
   ],
   "source": [
    "for name, model in sorted(models, key=lambda x: x[0]):\n",
    "    test_loss, accuracy = test(\n",
    "        model, test_dl=test_loader, loss_function=loss_fn, device=device\n",
    "    )\n",
    "    print(f\"Model {name}\")\n",
    "    print(f\"Test Error: \\n Accuracy: {accuracy:>0.1f}%, Avg loss: {test_loss:>8f} \\n\")"
   ]
  }
 ],
 "metadata": {
  "kernelspec": {
   "display_name": "ml-pruning",
   "language": "python",
   "name": "python3"
  },
  "language_info": {
   "codemirror_mode": {
    "name": "ipython",
    "version": 3
   },
   "file_extension": ".py",
   "mimetype": "text/x-python",
   "name": "python",
   "nbconvert_exporter": "python",
   "pygments_lexer": "ipython3",
   "version": "3.11.6"
  }
 },
 "nbformat": 4,
 "nbformat_minor": 2
}
